{
 "cells": [
  {
   "cell_type": "markdown",
   "metadata": {
    "id": "LatODp1WbEqX"
   },
   "source": [
    "**Dataset**"
   ]
  },
  {
   "cell_type": "code",
   "execution_count": 1,
   "metadata": {
    "collapsed": true
   },
   "outputs": [
    {
     "name": "stdout",
     "output_type": "stream",
     "text": [
      "Requirement already satisfied: tensorflow in c:\\users\\u249391\\appdata\\local\\anaconda3\\lib\\site-packages (2.12.0)\n",
      "Requirement already satisfied: tensorflow-intel==2.12.0 in c:\\users\\u249391\\appdata\\local\\anaconda3\\lib\\site-packages (from tensorflow) (2.12.0)\n",
      "Requirement already satisfied: absl-py>=1.0.0 in c:\\users\\u249391\\appdata\\local\\anaconda3\\lib\\site-packages (from tensorflow-intel==2.12.0->tensorflow) (1.4.0)\n",
      "Requirement already satisfied: tensorflow-estimator<2.13,>=2.12.0 in c:\\users\\u249391\\appdata\\local\\anaconda3\\lib\\site-packages (from tensorflow-intel==2.12.0->tensorflow) (2.12.0)\n",
      "Requirement already satisfied: packaging in c:\\users\\u249391\\appdata\\local\\anaconda3\\lib\\site-packages (from tensorflow-intel==2.12.0->tensorflow) (22.0)\n",
      "Requirement already satisfied: protobuf!=4.21.0,!=4.21.1,!=4.21.2,!=4.21.3,!=4.21.4,!=4.21.5,<5.0.0dev,>=3.20.3 in c:\\users\\u249391\\appdata\\local\\anaconda3\\lib\\site-packages (from tensorflow-intel==2.12.0->tensorflow) (4.22.1)\n",
      "Requirement already satisfied: flatbuffers>=2.0 in c:\\users\\u249391\\appdata\\local\\anaconda3\\lib\\site-packages (from tensorflow-intel==2.12.0->tensorflow) (23.3.3)\n",
      "Requirement already satisfied: jax>=0.3.15 in c:\\users\\u249391\\appdata\\local\\anaconda3\\lib\\site-packages (from tensorflow-intel==2.12.0->tensorflow) (0.4.7)\n",
      "Requirement already satisfied: grpcio<2.0,>=1.24.3 in c:\\users\\u249391\\appdata\\local\\anaconda3\\lib\\site-packages (from tensorflow-intel==2.12.0->tensorflow) (1.53.0)\n",
      "Requirement already satisfied: termcolor>=1.1.0 in c:\\users\\u249391\\appdata\\local\\anaconda3\\lib\\site-packages (from tensorflow-intel==2.12.0->tensorflow) (2.2.0)\n",
      "Requirement already satisfied: setuptools in c:\\users\\u249391\\appdata\\local\\anaconda3\\lib\\site-packages (from tensorflow-intel==2.12.0->tensorflow) (65.6.3)\n",
      "Requirement already satisfied: h5py>=2.9.0 in c:\\users\\u249391\\appdata\\local\\anaconda3\\lib\\site-packages (from tensorflow-intel==2.12.0->tensorflow) (3.7.0)\n",
      "Requirement already satisfied: libclang>=13.0.0 in c:\\users\\u249391\\appdata\\local\\anaconda3\\lib\\site-packages (from tensorflow-intel==2.12.0->tensorflow) (16.0.0)\n",
      "Requirement already satisfied: tensorflow-io-gcs-filesystem>=0.23.1 in c:\\users\\u249391\\appdata\\local\\anaconda3\\lib\\site-packages (from tensorflow-intel==2.12.0->tensorflow) (0.31.0)\n",
      "Requirement already satisfied: typing-extensions>=3.6.6 in c:\\users\\u249391\\appdata\\local\\anaconda3\\lib\\site-packages (from tensorflow-intel==2.12.0->tensorflow) (4.4.0)\n",
      "Requirement already satisfied: opt-einsum>=2.3.2 in c:\\users\\u249391\\appdata\\local\\anaconda3\\lib\\site-packages (from tensorflow-intel==2.12.0->tensorflow) (3.3.0)\n",
      "Requirement already satisfied: numpy<1.24,>=1.22 in c:\\users\\u249391\\appdata\\local\\anaconda3\\lib\\site-packages (from tensorflow-intel==2.12.0->tensorflow) (1.23.5)\n",
      "Requirement already satisfied: six>=1.12.0 in c:\\users\\u249391\\appdata\\local\\anaconda3\\lib\\site-packages (from tensorflow-intel==2.12.0->tensorflow) (1.16.0)\n",
      "Requirement already satisfied: google-pasta>=0.1.1 in c:\\users\\u249391\\appdata\\local\\anaconda3\\lib\\site-packages (from tensorflow-intel==2.12.0->tensorflow) (0.2.0)\n",
      "Requirement already satisfied: wrapt<1.15,>=1.11.0 in c:\\users\\u249391\\appdata\\local\\anaconda3\\lib\\site-packages (from tensorflow-intel==2.12.0->tensorflow) (1.14.1)\n",
      "Requirement already satisfied: tensorboard<2.13,>=2.12 in c:\\users\\u249391\\appdata\\local\\anaconda3\\lib\\site-packages (from tensorflow-intel==2.12.0->tensorflow) (2.12.0)\n",
      "Requirement already satisfied: keras<2.13,>=2.12.0 in c:\\users\\u249391\\appdata\\local\\anaconda3\\lib\\site-packages (from tensorflow-intel==2.12.0->tensorflow) (2.12.0)\n",
      "Requirement already satisfied: gast<=0.4.0,>=0.2.1 in c:\\users\\u249391\\appdata\\local\\anaconda3\\lib\\site-packages (from tensorflow-intel==2.12.0->tensorflow) (0.4.0)\n",
      "Requirement already satisfied: astunparse>=1.6.0 in c:\\users\\u249391\\appdata\\local\\anaconda3\\lib\\site-packages (from tensorflow-intel==2.12.0->tensorflow) (1.6.3)\n",
      "Requirement already satisfied: wheel<1.0,>=0.23.0 in c:\\users\\u249391\\appdata\\local\\anaconda3\\lib\\site-packages (from astunparse>=1.6.0->tensorflow-intel==2.12.0->tensorflow) (0.38.4)\n",
      "Requirement already satisfied: ml-dtypes>=0.0.3 in c:\\users\\u249391\\appdata\\local\\anaconda3\\lib\\site-packages (from jax>=0.3.15->tensorflow-intel==2.12.0->tensorflow) (0.0.4)\n",
      "Requirement already satisfied: scipy>=1.7 in c:\\users\\u249391\\appdata\\local\\anaconda3\\lib\\site-packages (from jax>=0.3.15->tensorflow-intel==2.12.0->tensorflow) (1.10.0)\n",
      "Requirement already satisfied: requests<3,>=2.21.0 in c:\\users\\u249391\\appdata\\local\\anaconda3\\lib\\site-packages (from tensorboard<2.13,>=2.12->tensorflow-intel==2.12.0->tensorflow) (2.28.1)\n",
      "Requirement already satisfied: tensorboard-data-server<0.8.0,>=0.7.0 in c:\\users\\u249391\\appdata\\local\\anaconda3\\lib\\site-packages (from tensorboard<2.13,>=2.12->tensorflow-intel==2.12.0->tensorflow) (0.7.0)\n",
      "Requirement already satisfied: google-auth-oauthlib<0.5,>=0.4.1 in c:\\users\\u249391\\appdata\\local\\anaconda3\\lib\\site-packages (from tensorboard<2.13,>=2.12->tensorflow-intel==2.12.0->tensorflow) (0.4.6)\n",
      "Requirement already satisfied: markdown>=2.6.8 in c:\\users\\u249391\\appdata\\local\\anaconda3\\lib\\site-packages (from tensorboard<2.13,>=2.12->tensorflow-intel==2.12.0->tensorflow) (3.4.1)\n",
      "Requirement already satisfied: google-auth<3,>=1.6.3 in c:\\users\\u249391\\appdata\\local\\anaconda3\\lib\\site-packages (from tensorboard<2.13,>=2.12->tensorflow-intel==2.12.0->tensorflow) (2.17.0)\n",
      "Requirement already satisfied: werkzeug>=1.0.1 in c:\\users\\u249391\\appdata\\local\\anaconda3\\lib\\site-packages (from tensorboard<2.13,>=2.12->tensorflow-intel==2.12.0->tensorflow) (2.2.2)\n",
      "Requirement already satisfied: tensorboard-plugin-wit>=1.6.0 in c:\\users\\u249391\\appdata\\local\\anaconda3\\lib\\site-packages (from tensorboard<2.13,>=2.12->tensorflow-intel==2.12.0->tensorflow) (1.8.1)\n",
      "Requirement already satisfied: cachetools<6.0,>=2.0.0 in c:\\users\\u249391\\appdata\\local\\anaconda3\\lib\\site-packages (from google-auth<3,>=1.6.3->tensorboard<2.13,>=2.12->tensorflow-intel==2.12.0->tensorflow) (5.3.0)\n",
      "Requirement already satisfied: rsa<5,>=3.1.4 in c:\\users\\u249391\\appdata\\local\\anaconda3\\lib\\site-packages (from google-auth<3,>=1.6.3->tensorboard<2.13,>=2.12->tensorflow-intel==2.12.0->tensorflow) (4.9)\n",
      "Requirement already satisfied: pyasn1-modules>=0.2.1 in c:\\users\\u249391\\appdata\\local\\anaconda3\\lib\\site-packages (from google-auth<3,>=1.6.3->tensorboard<2.13,>=2.12->tensorflow-intel==2.12.0->tensorflow) (0.2.8)\n",
      "Requirement already satisfied: requests-oauthlib>=0.7.0 in c:\\users\\u249391\\appdata\\local\\anaconda3\\lib\\site-packages (from google-auth-oauthlib<0.5,>=0.4.1->tensorboard<2.13,>=2.12->tensorflow-intel==2.12.0->tensorflow) (1.3.1)\n",
      "Requirement already satisfied: idna<4,>=2.5 in c:\\users\\u249391\\appdata\\local\\anaconda3\\lib\\site-packages (from requests<3,>=2.21.0->tensorboard<2.13,>=2.12->tensorflow-intel==2.12.0->tensorflow) (3.4)\n",
      "Requirement already satisfied: urllib3<1.27,>=1.21.1 in c:\\users\\u249391\\appdata\\local\\anaconda3\\lib\\site-packages (from requests<3,>=2.21.0->tensorboard<2.13,>=2.12->tensorflow-intel==2.12.0->tensorflow) (1.26.14)\n",
      "Requirement already satisfied: certifi>=2017.4.17 in c:\\users\\u249391\\appdata\\local\\anaconda3\\lib\\site-packages (from requests<3,>=2.21.0->tensorboard<2.13,>=2.12->tensorflow-intel==2.12.0->tensorflow) (2022.12.7)\n",
      "Requirement already satisfied: charset-normalizer<3,>=2 in c:\\users\\u249391\\appdata\\local\\anaconda3\\lib\\site-packages (from requests<3,>=2.21.0->tensorboard<2.13,>=2.12->tensorflow-intel==2.12.0->tensorflow) (2.0.4)\n",
      "Requirement already satisfied: MarkupSafe>=2.1.1 in c:\\users\\u249391\\appdata\\local\\anaconda3\\lib\\site-packages (from werkzeug>=1.0.1->tensorboard<2.13,>=2.12->tensorflow-intel==2.12.0->tensorflow) (2.1.1)\n",
      "Requirement already satisfied: pyasn1<0.5.0,>=0.4.6 in c:\\users\\u249391\\appdata\\local\\anaconda3\\lib\\site-packages (from pyasn1-modules>=0.2.1->google-auth<3,>=1.6.3->tensorboard<2.13,>=2.12->tensorflow-intel==2.12.0->tensorflow) (0.4.8)\n",
      "Requirement already satisfied: oauthlib>=3.0.0 in c:\\users\\u249391\\appdata\\local\\anaconda3\\lib\\site-packages (from requests-oauthlib>=0.7.0->google-auth-oauthlib<0.5,>=0.4.1->tensorboard<2.13,>=2.12->tensorflow-intel==2.12.0->tensorflow) (3.2.2)\n"
     ]
    },
    {
     "name": "stderr",
     "output_type": "stream",
     "text": [
      "ERROR: Could not find a version that satisfies the requirement sikitlearn (from versions: none)\n",
      "ERROR: No matching distribution found for sikitlearn\n"
     ]
    },
    {
     "name": "stdout",
     "output_type": "stream",
     "text": [
      "Requirement already satisfied: scikit-learn in c:\\users\\u249391\\appdata\\local\\anaconda3\\lib\\site-packages (1.2.2)\n",
      "Requirement already satisfied: scipy>=1.3.2 in c:\\users\\u249391\\appdata\\local\\anaconda3\\lib\\site-packages (from scikit-learn) (1.10.0)\n",
      "Requirement already satisfied: numpy>=1.17.3 in c:\\users\\u249391\\appdata\\local\\anaconda3\\lib\\site-packages (from scikit-learn) (1.23.5)\n",
      "Requirement already satisfied: threadpoolctl>=2.0.0 in c:\\users\\u249391\\appdata\\local\\anaconda3\\lib\\site-packages (from scikit-learn) (2.2.0)\n",
      "Requirement already satisfied: joblib>=1.1.1 in c:\\users\\u249391\\appdata\\local\\anaconda3\\lib\\site-packages (from scikit-learn) (1.1.1)\n"
     ]
    }
   ],
   "source": [
    "!pip install tensorflow\n",
    "!pip install sikitlearn\n",
    "!pip install --upgrade scikit-learn\n"
   ]
  },
  {
   "cell_type": "code",
   "execution_count": 2,
   "metadata": {
    "id": "4E9YA7Lgx3q3"
   },
   "outputs": [],
   "source": [
    "import pandas as pd\n",
    "import tensorflow as tf\n",
    "import numpy as np\n",
    "import matplotlib.pyplot as plt\n",
    "from collections import Counter\n",
    "\n"
   ]
  },
  {
   "cell_type": "code",
   "execution_count": 3,
   "metadata": {},
   "outputs": [
    {
     "name": "stdout",
     "output_type": "stream",
     "text": [
      "  ï»¿PharmGKB Subject ID  Gender   Race               Ethnicity      Age  \\\n",
      "0            PA135312261    male  White  not Hispanic or Latino  60 - 69   \n",
      "1            PA135312262  female  White  not Hispanic or Latino  50 - 59   \n",
      "2            PA135312263  female  White  not Hispanic or Latino  40 - 49   \n",
      "3            PA135312264    male  White  not Hispanic or Latino  60 - 69   \n",
      "4            PA135312265    male  White  not Hispanic or Latino  50 - 59   \n",
      "\n",
      "   Height (cm)  Weight (kg) Indication for Warfarin Treatment Comorbidities  \\\n",
      "0       193.04        115.7                                 7     No Cancer   \n",
      "1       176.53        144.2                                 7        Cancer   \n",
      "2       162.56         77.1                                 7     No Cancer   \n",
      "3       182.24         90.7                                 7     No Cancer   \n",
      "4       167.64         72.6                                 7     No Cancer   \n",
      "\n",
      "   Diabetes  ...  VKORC1 -1639 consensus  VKORC1 497 consensus  \\\n",
      "0       NaN  ...                     A/G                   G/T   \n",
      "1       NaN  ...                     A/A                   G/T   \n",
      "2       NaN  ...                     G/G                   T/T   \n",
      "3       NaN  ...                     A/G                   G/T   \n",
      "4       NaN  ...                     A/G                   T/T   \n",
      "\n",
      "  VKORC1 1173 consensus  VKORC1 1542 consensus  VKORC1 3730 consensus  \\\n",
      "0                   NaN                    C/G                    A/G   \n",
      "1                   T/T                    C/C                    G/G   \n",
      "2                   NaN                    G/G                    A/G   \n",
      "3                   NaN                    C/G                    G/G   \n",
      "4                   NaN                    C/G                    A/G   \n",
      "\n",
      "   VKORC1 2255 consensus  VKORC1 -4451 consensus  Unnamed: 63  Unnamed: 64  \\\n",
      "0                    NaN                     NaN          NaN          NaN   \n",
      "1                    T/T                     C/C          NaN          NaN   \n",
      "2                    NaN                     NaN          NaN          NaN   \n",
      "3                    NaN                     NaN          NaN          NaN   \n",
      "4                    NaN                     NaN          NaN          NaN   \n",
      "\n",
      "   Unnamed: 65  \n",
      "0          NaN  \n",
      "1          NaN  \n",
      "2          NaN  \n",
      "3          NaN  \n",
      "4          NaN  \n",
      "\n",
      "[5 rows x 66 columns]\n"
     ]
    }
   ],
   "source": [
    "#address = '/content/drive/MyDrive/Dr.Ramezani'\n",
    "# address = '/content/drive/My Drive/Colab Notebooks'\n",
    "#df_address = address + '/IWPC dataset.csv'\n",
    "df = pd.read_csv(\"warfarin.csv\", encoding='unicode_escape')\n",
    "#df.head()\n",
    "#df = pd.read_csv(warfarin.csv)\n",
    "print(df.head())"
   ]
  },
  {
   "cell_type": "code",
   "execution_count": 4,
   "metadata": {
    "colab": {
     "base_uri": "https://localhost:8080/"
    },
    "id": "M0zwMmFeBiy9",
    "outputId": "294f61c5-8b98-4342-b138-6996ec7b8123"
   },
   "outputs": [
    {
     "name": "stdout",
     "output_type": "stream",
     "text": [
      "  DVT or PE  DVT   PE Afib/flutter Heart Valve Cardiomyopathy/LV Dilation  \\\n",
      "0       NaN  NaN  NaN          NaN         NaN                        NaN   \n",
      "1       NaN  NaN  NaN          NaN         NaN                        NaN   \n",
      "2       NaN  NaN  NaN          NaN         NaN                        NaN   \n",
      "3       NaN  NaN  NaN          NaN         NaN                        NaN   \n",
      "4       NaN  NaN  NaN          NaN         NaN                        NaN   \n",
      "\n",
      "  Stroke Post-Orthopedic Other  \n",
      "0    NaN               1   NaN  \n",
      "1    NaN               1   NaN  \n",
      "2    NaN               1   NaN  \n",
      "3    NaN               1   NaN  \n",
      "4    NaN               1   NaN  \n"
     ]
    }
   ],
   "source": [
    "### Import numbered Indications to diffenert columns with named headings\n",
    "\n",
    "# L = df['Indication for Warfarin Treatment'].str.split(';',expand=True)\n",
    "# L = L.fillna('-1')\n",
    "Diseases = pd.DataFrame(columns=['DVT or PE','DVT','PE','Afib/flutter','Heart Valve','Cardiomyopathy/LV Dilation','Stroke','Post-Orthopedic','Other'], index=list(range(df.shape[0])))\n",
    "for index, row in df.iterrows():\n",
    "  if '1' in str(df['Indication for Warfarin Treatment'][index]):\n",
    "    Diseases['DVT'][index] = 1\n",
    "  elif '2' in str(df['Indication for Warfarin Treatment'][index]):\n",
    "    Diseases['PE'][index] = 1\n",
    "  elif '3' in str(df['Indication for Warfarin Treatment'][index]):\n",
    "    Diseases['Afib/flutter'][index] = 1\n",
    "  elif '4' in str(df['Indication for Warfarin Treatment'][index]):\n",
    "    Diseases['Heart Valve'][index] = 1\n",
    "  elif '5' in str(df['Indication for Warfarin Treatment'][index]):\n",
    "    Diseases['Cardiomyopathy/LV Dilation'][index] = 1\n",
    "  elif '6' in str(df['Indication for Warfarin Treatment'][index]):\n",
    "    Diseases['Stroke'][index] = 1\n",
    "  elif '7' in str(df['Indication for Warfarin Treatment'][index]):\n",
    "    Diseases['Post-Orthopedic'][index] = 1\n",
    "  elif '8' in str(df['Indication for Warfarin Treatment'][index]):\n",
    "    Diseases['Other'][index] = 1\n",
    "  elif '1 or 2' in str(df['Indication for Warfarin Treatment'][index]):\n",
    "    Diseases['DVT or PE'][index] = 1\n",
    "print(Diseases.head())"
   ]
  },
  {
   "cell_type": "code",
   "execution_count": 5,
   "metadata": {
    "colab": {
     "base_uri": "https://localhost:8080/"
    },
    "id": "FjACCCBLUImm",
    "outputId": "01ebfa3d-41ca-4742-f3f0-0f6e79e0a59a"
   },
   "outputs": [
    {
     "name": "stderr",
     "output_type": "stream",
     "text": [
      "C:\\Users\\u249391\\AppData\\Local\\Temp\\ipykernel_15520\\4190335131.py:6: FutureWarning: iteritems is deprecated and will be removed in a future version. Use .items instead.\n",
      "  for index_clm, column in M.iteritems():\n"
     ]
    },
    {
     "name": "stdout",
     "output_type": "stream",
     "text": [
      "          0     1     2     3     4     5     6     7     8     9     10  \\\n",
      "0  No Cancer  None  None  None  None  None  None  None  None  None  None   \n",
      "1     Cancer  None  None  None  None  None  None  None  None  None  None   \n",
      "2  No Cancer  None  None  None  None  None  None  None  None  None  None   \n",
      "3  No Cancer  None  None  None  None  None  None  None  None  None  None   \n",
      "4  No Cancer  None  None  None  None  None  None  None  None  None  None   \n",
      "\n",
      "     11    12    13    14  \n",
      "0  None  None  None  None  \n",
      "1  None  None  None  None  \n",
      "2  None  None  None  None  \n",
      "3  None  None  None  None  \n",
      "4  None  None  None  None  \n",
      "**************************\n",
      "Comorbidities Categories: {'', 'mechanical heart valve (mitral valve replacement)', 'alcoholic liver disease', 'herniated intervertebral disc status post-operative', 'systemic lupus erythmatosus', 'mds', 'factor v leiden (heterozygous)', 'high cholesterol', 'arrythmia', 'borderline diabetes mellitus', 'ischemia stroke', 'coronary artery bypass graft', 'osteoporosis', 'dilated left ventricle', 'post cva', 'coronary artery disease s/p percutanerous transluminal coronary angioplasty', 'renal insufficency', 'schizophrenia', 'hypothyoidism', 'congestive heart failure with aortic valve replacement', 'ebv infection', 'irritable bowel syndrome', 'decubitis ulcers', 'mitral valve regurgitation', 'hepatitis', 'status post valve replacement', 'heart valve replacement', 'aneurysm', 'nephrolithiasis', 'transplant', 'cerebral thrombosis', 'hyperthyroidism', 'acute coronary syndromes', 'obesity and sarcoidosis', 'sinus thrombosis', 'mural heart thromb', 'neuropathy', \"marfan's syndrome\", \"von willebrand's disease\", 'melanoma', 'no cancer', 'ischemia heart disease', 'rheumotoid arthritis', 'osteomyelitis', 'polyarthritis', 'cellulitis', 'subtoxic goiter', 'dyslipidemia: peripheral vascular disease', 'ventricular septal defect type 2', 'ischemic stroke, dyslipidemia', 'frequent left side carotid trasient attack', 'stomach cancer', 'atrial premature complex', 'cmv', 'carotid endarterecotmy', 'diabetes melltius', 'klastskin tumor', 'pulmonary embolus', 'stent', 'diabetes type 1', 'pyelonephritis', 'ventricular thrombosis', 'minor stroke', 'hepatitis c', 'no hyperlipidemia', 'rhuematic heart disease', 'leukemia', 'reduced left ventricular function', 'left ventricular dysfunction', 'intermittent claudication', 'psychosis', 'collagenosis', 'hematologic disease', 'tumour in sigmoideum', 'urinary tract infection', 'chronic lymphocytic leukemia', 'diabetes', 'heart failure', 'eczema', 'hhronic recurrent pulmonary embolisum', 'abnormal clot', 'carotid endarterectomy', 'hepatomegaly', 'deep vein thrombosis/pulmonary embolism', 'congestive heart failure and crf', 'valve', 'aortic regurgitation status post aortic valve replacement', 'deep veinous thrombosis/pulmonary embolism', 'hep b', 'anemia', 'sickle cell anemia', 'renal insufficiency', 'mitral valve regurgitation and mitral stenosis status post mitral valve replacement', 'restrictive lung disease', 'intracranial cerebral artery stenosis', 'end stage renal failure', 'heumatologic disease', 'allergy', 'dilated left atrium and ventricle', 'aortic valve replacement', 'syncope', 'hypothyroid', 'myasthenia gravis', 'hypothyroidism', 'ischemic stroke', 'ischalgia', 'status post coronary artery bypass graft', 'rheumatic aortic stenosis', 'arial fibrillation', 'bhp', 'peptic ulcer disease', 'cardiomyopathy', 'abnormal bleed', 'hiv', 'hypertesion', 'ethanol abuse', 'aortic regurgitation', 'mitral regurgitation', 'spasm angina', 'embolism and thrombosis', 'cardiac arrhythmias', 'pollen allergy', 'central sinus thrombosis', 'fatty liver', 'amio-pulmonary toxicity', 'meningioma', 'antithrombin iii deficiency', 'bhp and post cva', 'hepatic disease', 'cerebralvascular disease/atrial fibrillation', 'bipolar disorder', 'myalgia', 'ventricular tachycardia', 'hypertension and ischemic heart disease', 'sinus thrombosis, protein c deficiency', 'cardiac arrhythmias (svt)', 'dilated cardiomyopathy', 'type 2 diabetes (treated w diet)', 'abnormal heart rhythm', 'prothrombin g20210a heterozygote', 'kidney cancer', 'paraplegia (traumatic)', 'h/o ventricular tachycardia s/p icd', 'acute myocardial infarction', 'stroke', 'diabetes, peripheral vascular disease', 'possible history of antithrombin iii deficiency', 'olecranon bursitis', 'cardiac transplant', 'other and valve patient', 'no hypertension', 'nefrosclerosis', 'thyreotoxicosis', 'dysarthria', 'hypercholesterolemia', 'angina pectoris', 'anxiety', 'pulmonary disease', 'ulcerative colitis', 'hypothyreosis', 'lymfoma', 'hay fever', 'atrial fibrillation/flutter', 'sick sinus syndrome', 'h/o cancer (melanoma)', 'pelvospondylitis', 'tumour', 'hyperthyroid', 'onychomycosis', \"graves'\", 's/p kidney transplant', 'obesitas', 'malignancy', 'cardiovascular disease', 'protein c or s deficiency', 'left ventricle hypertrophy', 'nephrotic syndrome', 'chronic renail failure', 'trivalve aortic regurgitation', 'scleroderma', 'cox arthrosis', 'hepatitis a', 'pneumonia', 'coronary artery disease s/p percutanerous transluminal coronary angioplasty, coronary artery bypass graft', 'reflux esofagitis', 'mitral stenosis status post aortic valve replacement', 'antiphospholipid syndrome', 'greenfield filter', 'liver cirrhosis', 'aortic dissection', 'status post aortic vavle replacement', 'borderline and anticardiolipin igm', 'colon cancer', 'osteopenia', 'tuberculosis in childhood', 'left ventricular thrombus', \"post hodgkin's lymphoma\", 'acute renal failure', 'liver disease', \"crohn's disease\", 'urinary incontinence', 'right atrial thrombosis', 'cerebrobascular accident', 'cardiomegaly', 'no comorbidities', 'migraine', 'apla', 'atrial valve repair', 'hypertrophic cm', 'no cardiomyopathy', 'hyperthyoidism', 'carotid artery stenosis', 'goiter', 'rheumatologic disease', 'muscle and joint problems', 'hyperlipoproteinemia', 'artery occlusion', 'percutanerous transluminal coronary angioplasty', 'hepatitis b carrier', 'convulsive disorder', 'cardiac arrhythmia', 'atrial fibrillation status post mitral valve replacement', 'benign prostatic hyperplasia', 'hypothryoidism', 'peptic ulcer', 'inflammatory bowel disease', 'avescular valve replacement', 'mitral valve repair', 'asthma bronchiale', 'aortic insufficiency', 'heart disease', 'ulcerous colitis', 'mitral valve annuloplasty', 'bph', 'asthma', 'hepatitis b', 's/p transplant', 'dilated left ventricle and atrium', 'ca of breast', 'lung cancer', 'hyperlipidemia', 'op. kidney tumour -98', 'polycythemia', 'respiratory disease', 'coronary atherosclerosis', 'hypothryroidism', 'other', 'malaria', 'thyroid cancer', 'hepatitis c.', 'chonic obstructive pulmonary disease', 'percutaneous transluminal coronary angioplasty', 'cerebral infarction', 'methicillin resistant staphylococcus aureus', 'infection', 'endocarditis', 'left ventricle dysfunction', 'transient ischemic attacks', 'coronary artery bypass surgery', 'coronary artery disease', 'coronary artery disease s/p coronary artery bypass graft', 'renal failure', 'dizziness', 'hypertension', 'tricuspid valve regurgitation', 'pulmonary hypertension', 'fractures', 'fibromyalgia', 'dyspepsia', 'sarcoidosis', 'no diabetes', 'mitral stenosis with left atrial enlargement', 'multiple myeloma', 'gastrointestinal disease', 'throat cancer', 'sickle cell disease', 'arteriosclerotic heart disease', 'polymyalgia', 'polymyalgia reumatica', 'chronic kidney disease', 'ischemic heart disease', 'paraplegia', 'syphilis', 'deep vein thrombosis', 'polycythemia vera', 'skin cancer', 'atiii deficiency', 'rhuematoid arthritis', 'hepatitis c. chronic renal failure', 'myocardial infarction', 'ischemic heart disease and obesity', 'dyslipidemia, peripheral vascular disease', 'pulmonary embolism', 'venous thrombosis', 'portal hypertension (budd-chiari)', 'neurological disease', 'active ovarian cancer', 'cerebral embolus', 'aortic stenosis', 'low back pain', 'benign prostatic hypertrophy', 'aneurysm ectomy', 'with aortic valve replacement', 'hypertension and osteoporosis', 'chronic obstructive pulmonary disease', 'cerebrovascular accident', 'urological conditions', 'has had malaria', 'prostate hypertrofia', 'gastritis', 'history of falls', 'protein s deficiency', 'chronic renal failure', 'tissue heart valve (avr)', 'transient ischemic attack', 'atrial flutter', \"parkinson's disease\", 'post status aortic valve replacement', 'sicke cell anemia', 'arthritis', 'mitral insufficiency', 'rapid ventricular response', 'seizures', 'obesity and crf', 'hypertrophic obstructive cardiomyopathy', 'multiple myeloma cancer', 'urethral cancer', 'status post tricuspid valve replacement', 'decreased ejection fraction', 'obstructive sleep apnea', 'rheumatic fever', 'protein c deficiency', 'systemic lupus erythematosus', 'breast cancer', 'end stage liver disease', 'renal cancer', 'atrial fibrillation', 'atrial fibrilation', 'mitral and tricuspid regurgitation', \"ebstein's anomaly of tricuspid valve\", 'rectal ulcers', 'pulm hypertension', 'mitral valve prolapse', \"bechet's disease\", 'atrial thrombosis', 'heart vavle replacement', 'kidney treatment', 'atrial fibrillation with rapid ventricular response', \"chron's disease\", 'elevated factor viii', 'renal disease', 'epilepsy', 'cirrhosis', 'ovarian cancer', 'arthrosis', 'status post mitral valve replacement', 'bladder cancer', 'liver', 'anticardiolipin antibody', 'dyslipidemia', 'rheumatoid heart disease', 'rhematic arthritis', 'h/o ovarian cancer', 'menigitis', 'hypertension, hyperlipidemia, peripheral vascular disease', 'atrial septal defect', 'diaphragmatic hernia', 'gallstone', 'psychiatric illness', 'type 2 diabetes', 'dilated left atrium', 'rhuematoid heart disease', 'h/o cancer', 'insulin dependent diabetes mellitus', 'first degree atrioventricular block', 'post deep vein thrombosis', 'tuberculosis', 'pulmonary sarcoidosis', 'mitral stenosis status postmitral valve replacement', 'hypertensive cardiovascular disease', 'rheumatic heart disease', 'platelet activating factor', 'bilateral pulmonary embolism', 'deep venous thrombosis', 'alcoholism', 'osteoarthritis', 'muscoskeletal problems', 'mitral valve regurgitation status post mitral valve replacement', 'prostatism', 'post bacterial endocarditis', 'cancer', 'mitral valve replacement', 'cardiomyopathy: raynauds', 'breast cancer op. 1984', 'mb bechterew', 'tricuspidal insufficiency', 'reumatism', 'hypetension', 'protein c/s deficiency', 'valvular heart disease', 'uterine cancer', 'post coronary artery bypass graft', 'coronary artery disease with bypass', 'rheumatoid arthritis', 'valve replacement', 'crf', 'biliary cirrhosis', 'peripheral vascular disease', 'diabetes mellituse', 'psoriasis', 'seizure', 'chronic renal insufficiency', 'alcohol abuse', 'valvular disease', 'hyperparathyroidism', 'prostate cancer', 'glaucoma', 'by-pass operation', 'pancolitis', 'aortic stenosis status post aortic valve replacement', 'seizure disorder', 'cholelithiasis', 'thyroid disease', 'diabetes type 2', 'rheumatic heart disease with mitral stenosis', 'gout', 'testicular cancer', 'status post aortic valve replacement', 'pernicious anemia', 'heart valve prosthesis', 'obesity and cns vasculitis', 'trial fibrillation', 'diabetes mellitus', 'uterus cancer', 'mitral stenosis status post mitral valve replacement', 'rheumatic mitral insufficiency', 'left ventricular thrombosis', 'congestive heart failure', 'gastroesophageal reflux disease', 'none', 'arrthymias', 'aortic graft', 'mitral stenosis', 'apical heart thromb', 'sleep apnea', 'confusion', 'post avr and coronary artery bypass graft', 'cerevarl aneurysms', 's/p renal transplant', 'bilateral pleural effusion', 'depression', 'atrioventricular block', 'celiac disease', 'hepatitis c with normal liver enzymes', 'obsessive compulsive disease', 'obesity', 'mvr', 'pulmonary embolsim', 'hypertension and obesity', 'funnel chest', 'wolff-parkinson-white syndrome', 'lymphoma', 'op. colon cancer'}\n",
      "Length of set: 463\n"
     ]
    }
   ],
   "source": [
    "### Check how many comorbidities are there.\n",
    "\n",
    "M_list = []\n",
    "M = df['Comorbidities'].str.split(';',expand=True)\n",
    "for index_row, row in M.iterrows():\n",
    "  for index_clm, column in M.iteritems():\n",
    "    # print(index_clm, ' & ', index_row)\n",
    "    # print(M[index_clm][index_row])\n",
    "    if (M[index_clm][index_row] != None) and (M[index_clm][index_row] != np.nan) and (type(M[index_clm][index_row])==str):\n",
    "      M_list.append(M[index_clm][index_row].strip().lower())\n",
    "Comorbidities_categories = set(M_list)\n",
    "print(M.head())\n",
    "print('**************************')\n",
    "print('Comorbidities Categories:',Comorbidities_categories)\n",
    "print('Length of set:',len(Comorbidities_categories))"
   ]
  },
  {
   "cell_type": "code",
   "execution_count": 6,
   "metadata": {
    "colab": {
     "base_uri": "https://localhost:8080/"
    },
    "id": "NKCZ4QpzdTcG",
    "outputId": "a1d6213d-3006-43f1-e6a7-25a2df49570f"
   },
   "outputs": [
    {
     "name": "stderr",
     "output_type": "stream",
     "text": [
      "C:\\Users\\u249391\\AppData\\Local\\Temp\\ipykernel_15520\\527220999.py:6: FutureWarning: iteritems is deprecated and will be removed in a future version. Use .items instead.\n",
      "  for index_clm, column in Q.iteritems():\n"
     ]
    },
    {
     "name": "stdout",
     "output_type": "stream",
     "text": [
      "            0                 1                2     3     4     5     6   \\\n",
      "0      aspirin   not simvastatin   not amiodarone  None  None  None  None   \n",
      "1  not aspirin   not simvastatin   not amiodarone  None  None  None  None   \n",
      "2  not aspirin   not simvastatin   not amiodarone  None  None  None  None   \n",
      "3  not aspirin   not simvastatin   not amiodarone  None  None  None  None   \n",
      "4  not aspirin   not simvastatin   not amiodarone  None  None  None  None   \n",
      "\n",
      "     7     8     9   ...    47    48    49    50    51    52    53    54  \\\n",
      "0  None  None  None  ...  None  None  None  None  None  None  None  None   \n",
      "1  None  None  None  ...  None  None  None  None  None  None  None  None   \n",
      "2  None  None  None  ...  None  None  None  None  None  None  None  None   \n",
      "3  None  None  None  ...  None  None  None  None  None  None  None  None   \n",
      "4  None  None  None  ...  None  None  None  None  None  None  None  None   \n",
      "\n",
      "     55    56  \n",
      "0  None  None  \n",
      "1  None  None  \n",
      "2  None  None  \n",
      "3  None  None  \n",
      "4  None  None  \n",
      "\n",
      "[5 rows x 57 columns]\n",
      "**************************\n",
      "Medications Categories: {'', 'insulin regular', 'fexodenadine', 'spiriva', 'tenormin', 'oxcarbazepine', 'disopyramide phosphate', 'diltia-xt', 'klotrix sr', 'lexopril', 'lovatadine', 'singulair', 'actos', 'darvocet n', 'salmeterol inhl', 'propoxyphene', 'albuterol sulfate/ipratropium', 'acebutalol', 'conezyme q10', 'esomeprazole', 'diltiazem hcl', 'accolate', 'flunisolide', 'fluorosets', 'isosorbide dinitrate sr', 'montelukast', 'multivitamins with iron', 'dexycycline', 'prochalorperazine', 'glimepiride', 'glargine insulin', 'zetia', 'mycophenolic acid', 'zofran', 'aloh', 'dulcolax', 'estrogen', 'vision supplement 20/20', 'sandostatin', 'venlafaxine', 'metoprolal', 'celebrex or vioxx or bextra', 'potassium citrate', 'betapace', 'profibe', 'lupron depo', 'apap', 'diclofenac', 'magic mouthwash', 'enalapiril/hydrochlorothiazide', 'time fighers mvi', 'risperidol', 'rosavastatin', 'disopyramide', 'ezet', 'carbidopa', 'apap es', 'rizatriptan', 'aderall', 'multi-vitamin without iron', 'vasotec', 'melatonin', 'narcotic pain pill', 'fenofibrate', 'lente insulin regular', 'nitrobid', 'erythropoietin', 'evalapril', 'isordil', 'propranolol hcl', 'aspirin/dipyridamole', 'thryoxine', 'ranitiduie', 'oxygen nasal cannula', 'wellbutrin', 'glyburide/metformin hcl', 'clonazepam', 'atrovent mdi', 'bilberry, coenzymeq10, cordyceps', 'penlac', 'lente insulin', 'caltrate', 'prograf', 'fluticasone nasal spray', 'lisinopril', 'cyclacor', 'progesterone, micronized', 'digoxin, furosemide, spironolacton', 'maalox', 'fluoxetine hcl', 'calcium carbonate', 'aspirin/salsalate', 'ntg sl', 'galantamine', 'not nalidixic acid', 'zinc/magnesium', 'insulin glargine', 'zopridem', 'hydrochlorothiazide/amiloride', 'cpap', 'acetemphen', 'clindamycin phosphate', 'buproprion', 'neurotin', 'dilaudid', 'cholestyramine/sucrose', 'ezetemibe', 'not vioxx', 'escitalopram', 'quinine sulfate', 'medroxyprogesterone acetate', 'hydrochlorthizide', 'ciprofloxacin', 'methotrexate', 'not pacerone', 'not levothyroxine', 'multi-vitamin with iron', 'testosterone patch', 'serra', 'premarin cream', 'percocet prn', 'epogen', 'cortisone', 'magnesium carbonate antacid', 'not trimethoprim', 'etoposide', 'tessalon perles', 'estradiol', 'not gemifloxacin', 'neoral', 'minocycline', 'lexotam', 'pantoprazole sodium', 'rythmol', 'albuterol inhl', 'cephalexin', 'esomeprazole mag trihydrate', 'bromazepam', 'levothyroxin', 'gentamicin', 'nasonex', 'valium', 'tambocor', 'prednizone', 'ephedrine', 'dipyrone', 'chondroitin', 'mupirocin', 'buffers/ascorbic acid', 'apioglitazone', 'persantine', 'fosomax', 'plavix', 'pepto-bismol', 'ipratroprium', 'furosemide', 'cholecalciferol', 'olanzapine', 'moclobemide', 'clonidine', 'acetaminophen es', 'allupropinol', 'hyscyamine', 'fentanyl', 'desloratadine', 'royphinol', 'grade ii compression hose', 'diphenoxylate hcl /atrop sulf', 'micardis hydrochlorothiazide', 'insulin 16r', 'dilantin', 'metropolol', 'carboplatin', 'depakote', 'pulmicort', 'magnesium hydroxide', 'glucphage xl', 'ntg spray', 'clemastine', 'insulin 32n', 'loratadine', 'glucatrol', 'cyanocobalamin', 'salmeterol', 'gabapentine', 'omesartan', 'not cerivastatin', 'tramadol hcl /acetaminophen', 'raloxifene hcl', 'pyridostigime', 'humalog insulin', 'sumafriptan', 'zinc sulfate', 'neutra phosphate', 'ntg', 'immodium', 'nicotene patche', 'colestid', 'ducosate', 'not phenytoin', 'triamcinolone', 'metronidazole', 'lanzoprazole', 'clozapine', 'hypertension', 'not allopuinol', 'nasarel nasal spray', 'combivir', 'vitamin k', 'canoxin', 'plafirix', 'fluticasone inh', 'privirl', 'amiodione', 'ditropan', 'itraconazole', 'cialis', 'allegra', 'frankencense', 'triamterene hydrochlorothiazide', 'oxycodone/acetaminophen', 'fluticasone inhl', 'clotrimazole cream', 'dorzolamide hcl', 'acetaminophen/dp-hydramine', 'tegretol xr', 'pulmocort', 'valtrex', 'triamterene/hydrochlorothiazide', 'venlafaxine hcl', 'pseduoephedrine', 'diovan hydrochlorothiazide', 'metroprolol succinute', 'hydrochlrothiazide', 'avandamet', 'doxazosine', 'ducusate', 'protease plus- prostate health', 'valacyclovir hcl', 'vitamin', 'mitazapine', 'vitamin b6 and b12', 'nitrostat sl', 'norvasc', 'chlorpheniramine', 'leuprolide acetate', 'ribaurin', 'hyzaar', 'insulin reg', 'raloxefine', 'flunitrazepam', 'hydromorphone', 'selenium, vanadyl sulfate', 'esomeprazole magnesium trihydrate', 'tamsulosin', 'cordarone or pacerone or amiodarone', 'reyataz', 'inhib2c9', 'moduretics', 'captopril', 'propylthiouracil', 'glucosamine', 'horvasc', 'epoprostenol infusion', 'primidone', 'gabapentin', 'flut/salmet inh', 'lkeppra', 'levothyropine', 'allopurinol', 'not amiodarone', 'mvi', 'ribavirin', 'phenazopyridine hcl', 'minoxidil', 'cyanocobalimin', 'milrinone', 'celebrex', 'inslulin', 'alesse bcp', 'ptu', 'glucotrol', 'ultracet', 'calcium with vitamind d', 'not heparin', 'flovent', 'not propythiouracil', 'cephalexin monohydrate', 'klonapin', 'substrate2c9', 'fluticasone', 'aspirin/calcium carb/mag/al hydrox', 'piracetam', 'acetaminophen/codeine', 'sorbitol', 'naprosyn', 'tenazepan', 'cardizen cd', 'soy supplement', 'cetirizine hcl', 'emuterol', 'auranofin', 'trazodone', 'sevelamer', 'flecainide', 'medroxyprogesterone acet', 'metoprolol tartrate', 'alphagan-ph', 'doxycycline', 'celecoxib', 'hydrocortisone topical', 'gemfribrozal', 'niracept', 'tioridazina', 'cetirizine', 'flurosemide', 'omeprozole', 'trimethoprim', 'calcium/vitamin d', 'trental', 'lidoderm', 'thiamine', 'conjugated estrogen', 'pravachol', 'rantidine hcl', 'mesalazine', 'loratidine', 'urocit', 'nevirapine', 'florinef', 'centrum silver', 'nitroglycerin', 'vitamin d warfarin', 'beclomethasone', 'insulin human', 'loperamide hcl', 'klorcon', 'niaspan', 'clonidine hcl', 'flecanide', 'amlopidine', 'menest', 'vicodin', 'libinopril', 'pramipexole di-hcl', 'htcz', 'certrizine', 'percocet', 'doxepin', 'amilorid', 'bromhexine', 'acetaminophin', 'clotrimazole', 'gotukola,hawthorn, lecithin, manganese', 'metoprolol xl', 'lovastatin/niacin', 'piroxican', 'doxazosin mesylate', 'impratropium bromide', 'smp/tmz', 'diphenoxylate/atropine', 'fexofenadine', 'dogoxin', 'irbesartan', 'cardizem', 'metroprolol tartate', 'cozaar', 'cilostazol', 'sulfamethoxazole/trimetho', 'none', 'isoril', 'liquid tylenol', 'lecithin', 'mepenzolate', 'milk thistle', 'insulin regular human rec', 'cactus extract, colostum, flaxseed, fish oil', 'citalopram hydrobromide', 'formoterol', 'metroprolol', 'terbinafine', 'eletriptan', 'morphine', 'zinc', 'not pravastatin', 'guaifenesin with dextromethorphan', 'azithromycin', 'insulin 4r', 'loperamide', 'psyllium', 'albuterol/atrovent', 'flonase', 'vegetable fiber', 'busparine', 'lipitor', 'aldactone', 'vitamin b12 and folate', 'sildenafil', 'fluocinonide', 'coenzyme q10', 'mirtazapine', 'donepezil', 'sirolimus', 'potassium chloride', 'nasacort aq', 'capsaicin cream', 'zolpidem', 'fluticasone propionate', 'anastrozole', 'lorazapem', 'amitryptyline', 'vitamin supplement', 'flaxseed oil', 'sotalol-betapace', 'not didanosine', 'brimondine tartrate', 'gabap', 'baclofen', 'pseudoephedrine', 'catapres', 'bran', 'cardizem la', 'mometasone nasal spray', 'tylenol with codeine', 'misoprostol', 'ipratropium', 'florazemide', 'acetazolamide', 'glipizide', 'metoprolol', 'nitrofurantoin/nitrofuran mac', 'gingko biloba', 'levothyroxine sodium', 'avodart', 'estriol', 'lanoxin', 'dietiazem', 'selegiline', 'enalapril/hydrochlorothiazide', 'cucurbita pepo (pumpkin)', 'vitamin c', 'clonipin', 'sulfamethoxazole', 'sennosides', 'va', 'not fluvastatin', 'clopidogrel', 'rosuvastatin', 'cilazapril', 'propoxyphene/acetaminophen', 'levothroyoxine', 'fluticasone inhaler', 'candersartam', 'lansoprazole', 'senna-c', 'resperidone', 'estrogens, conjugated', 'vitamin e', 'fosamprenavir', 'benazepril', 'jantoven', 'terbutaline', 'acetaminophen/codeine #3', 'ritho', 'tramadol', 'acetylcysteine', 'calcium-d', 'nitroquick sl', 'zaroxoyln', 'fluticasone/salmeterol mdi', 'simethicone', 'verapamil sr', 'diltiazem', 'ropinirole hcl', 'lanosprazole', 'atorvastin', 'ezetimibe', 'not methimazole', 'candesartan cilexetil', 'lovenox', 'gluconate', 'vitamin d2', 'nabumetone', 'creon', 'fludrocortisone', 'praacid', 'ecotrin', 'calcium/vit. d', 'amoxicillin', 'levofloxcin', 'hydrocodone/acetaminophen', 'lansoprazol', 'allapurinol', 'albuterol/iprat', 'methylcellulose', 'lantud', 'buspirone', 'green tea leaf extract', 'gatifloxacin', 'metoprolol succinate', 'volmax er', 'imodium ad', 'iron', 'diltiazem cd', 'copressor', 'mirtazipine', 'persatin', 'orthotrycycline', 'apap extra strength', 'piroxicam', 'hydrochlorazide', 'probenecid', 'not ethanol', 'asprin', 'toporal', 'acebutolol', 'pepcid', 'xanax', 'finasteride', 'glimepride', 'not hydrocortisone', 'arthrotek', 'fluticasone/salmet inh', 'procainamide', 'diltiazem xl', 'methonidazole', 'bethametasone chinoform topical', 'atovastatin', 'propranolol', 'ibraptropium bromide', 'fluoxetine hcl rantidine hcl', 'cetaximab', 'advir', 'advair', 'fluticasone/salmet inhl', 'ntg sl prn', 'ibuprofen', 'not diflunisal', 'morphine so4', 'hydrochlorothiazide', 'famciclovir', 'amoxicillin/potassium clavulanate', 'albuterol mdi', 'mometasone furoate', 'valganciclovir', 'triamcinilone', 'cod liver oil', 'lactose-free food', 'senokot', 'citrus bioflavanoids', 'octneotide', 'induce2c9', 'leuprolide', 'labetalol', 'ondansetron', 'haldol', 'not cordarone', 'methocarbomal', 'clonadine', 'nph', 'olanzepine', 'sevelamer hcl', 'hydrocodone bit/acetaminophen', 'ipratropium mdi', 'chlorpromazine', 'claritin d', 'casanthranol', 'amiloride/hydrochlorothiazide', 'donepresil', 'saw palmetto', 'triamterine/hydrochlorothiazide', 'levothyroxine', 'hydroxychloroquine sulfate', 'xalatan', 'isosorbide', 'xalatan eye gtt', 'diltiazem xr', 'lithium', 'quetiapine', 'benzaprine', 'benazepril hydrochlorothiazide', 'piperacillin ta', 'risperidone', 'megace', 'lisinoprol', 'griseofulvin', 'not sulfamethoxazole', 'regular insulin', 'insulin nph', 'tetracycline', 'salsate', 'oscal', 'coenyzme q10', 'hydrocodone', 'fucudic acid topical', 'atovaquone', 'not nafcillin', 'procrit', 'carvetalol', 'acetaminophen prn', 'quetiapine fumarate', 'latanoprost', 'trandolapril', 'losartan', 'ketoconazole cream', 'lotrisone cream', 'levodopa', 'tricor', 'lipoton', 'pravastatin sodium', 'thiamazol', 'omeprazole', 'prevacid', 'trimethoprim sulfa ds', 'rescriptor', 'clomipramine', 'ipratropium bromide', 'multivitamin', 'trusopt eyedrops', 'mycophenolate mofetil', 'trazodone hcl', 'feso4', 'ambien', 'calcium', 'oscal-d', 'insulin glargin', 'calcium antacid', 'trazad', 'candesartan', 'terazosin', 'benzonatave', 'verelan er', 'lisinipril', 'spironolactone', 'amoxacillin', 'chronic oxygen by nasal prongs', 'spirnolactone', 'losartan/ hydrochlorothiazide', 'pilocarpine eye dropstimolol maleate', 'amtodipine', 'beta-carotene', 'chlortrimeton', 'repaglinide', 'sotalol', 'hydrochlorothiazide/triamterene', 'tamoxifen citrate', 'ca', 'oscal d', 'seraquil', 'metformin', 'theophylline', 'dolasetron', 'docosahexanoic acid/epa', 'pilocarpine eye drops', 'not non-steroidal anti-inflammatory', 'potassium', 'fosinopril', 'diprosone ointment', 'glucamide', 'cyclosporin', 'cyclobenzaprine', 'demadex', 'wellbutrin sr', 'isradipine', 'modafinil', 'abacabir', 'cardiazem, enalapril, propranolol, spironolacton, torasemide', 'oxycodone hcl /acetaminophen', 'latanoprost eye drops', 'klonopin', 'lopressor', 'cardopamin', 'cod liver', 'risedronate', 'carbamazepine', 'trusopt', 'centrum multivitamin', 'vicodines', 'telmisartan', 'pcn', 'atrovent', 'lisinopril/hydrochlorothiazide', 'glucosamine, chondroitin, msm', 'metoporolol', 'calcitriol', 'quinidine', 'albuterol nebulizer', 'quinidine sulfate', 'glucerna shake', 'valsartin', 'colace', 'caltrate and vitamin d', 'multivitamins w-minerals/lut', 'lactitol', 'ginkgo biloba', 'bupropion hcl', 'warfarin', 'ampicillin/sulbactam', 'nitrogylcerin', 'etidronate', 'ranitidine', 'lamotrigine', 'glyburide/metformin', 'digitoxin', 'clobetasol cream', 'glucovance', 'no amiodarone', 'acetaminophen/butalbital/caffeine', 'albuterol/ipratropium inhaler', 'metamucil', 'cardizem cd', 'colchicine', 'miconazole topical', 'abuterol', 'hydrocodone with apap', 'gliquidone', 'rhythmol', 'zolpidem tartrate', 'atazanavir', 'lasix', 'pramipexole', 'divalproex sodium', 'avandia', 'not barbiturates', 'rantitideine', 'metipranolol', 'thalidomide', 'bisoprolo, furosemide', 'erythromycin base', 'actigall', 'keflex', 'hexavitamin', 'nadolol', 'anagrelide', 'cough medicine with codene', 'isosorbid dinitrate', 'not cholestyramine', 'isosorbide dinitrate', 'doxycyline', 'lotrel', 'gemfibrozil', 'tiazacdltiazem', 'torsemide', 'methylsulfonylmethane (msm)', 'cartia xl', 'sotalol hcl', 'felephine', 'olopatadine hcl', 'novalog', 'quinapril', 'nizoval', 'phenytoin', 'mianserin', 'albuterol inh', 'selenium sulfide', 'not duloxetine', 'vancomycin iv', 'androderm', 'losartan/hydrochlorothiazide', 'epo', 'prednisone', 'polycitrate', 'not ciprofloxacin', 'zantac', 'cider vinegar', 'diltazen', 'terbutaline inhalation', 'remeron', 'glucatrd', 'tacrolimus', 'octreotide', 'milrinone infusion', 'meloxicam', 'psyllium husk', 'risperdol', 'glipezide', 'amiodarone hcl', 'lansprazole', 'midrin', 'dyazide', 'clindamycin', 'ntg patch', 'cholestyr', 'indomethicin', 'albuerol/ipratropium inhaler', 'inderal', 'klor-con', 'nortriptyline', 'albuterol', 'valdecoxib', 'coreg', 'ziprasidone', 'hormone treatment', 'not liothyronine', 'motrin', 'diltiazen', 'miacin', 'atenol', 'carvedopa/levodopa', 'resterol', 'valgancyclovir', 'albut inhl', 'nifedipine', 'pitavastatin', 'alendronate', 'lanosoprazole', 'bextra', 'levothroid', 'fenofibrate nanocrystallized', 'cardopamin, furosemide, spironolaction', 'fluvastatin sodium', 'gliclazid', 'toprol-xl', 'cephalaxin', 'cefp', 'timolol', 'apap with codeine', 'estrogen with m-progesterone acetate', 'apa', 'theophylline anhydrous', 'lithium carbonate', 'cardopamin, carvedilol, furosemide, spironolacton,', 'acrabose', 'sulfamethoxazole/trimethoprim', 'k-tab', 'losartan potassium', 'not danazol', 'toprol', 'nitroglycerin patch', 'doxifluridine', 'albuterol inhaler', 'altace', 'darbepoetin alfa', 'methocarbamo', 'raloxifene', 'diluadid', 'fexofenadine/diphenhydramine', 'calcium acetate', 'prozac', 'doxin', 'chloroquine', 'sleeping pill', 'olmesartan', 'insulin 70/30 (nph reg)', 'lasex', 'amitriptyline', 'fluticasone inhalation', 'flax seed oil', 'diltiazeim', 'alphagan', 'pro', 'not cemetazole', 'heparinoid topical', 'ritonavir', 'biotin', 'gucophage', 'nitrates', 'alendronate sodium', 'vitamink', 'dipyridamole', 'methizazole', 'capecitabine', 'ceftraxime', 'calcium d', 'omega-3-acid', 'hydrocortisone', 'cardio results', 'sildenafil citrate', 'insulin lispro, human rec anlog', 'not quinolones', 'torasemide', 'nph insulintrazodone hcl', 'temazepam', 'mercaptopurine', 'tpn/il', 'oxycodone', 'multivitamin with zinc', 'aygestin', 'bispropolol', 'lidocaine topical', 'atorvastatin calcium', 'pioglitazone', 'lamivudine', 'zometa', 'tums', 'alprazolam', 'acebutolol hcl', 'hydroxyzine', 'estrogen  with m-progesterone acetate', 'not miconazole', 'coenzyme q', 'diphenhydramine', 'ursodiol', 'k-dur', 'folate', 'carvedilol', 'mag-ox', 'multivitamin (centrum silver)', 'paxil', 'mvi w iron', 'cartia xt', 'flexeril', 'betamethasone', 'ceftazidime', 'not isoniazid', 'gabapemtin', 'depo-provera', 'diltiazem xt', 'glypride', 'estropipate', 'insulin 17n', 'tolterodine tartrate', 'spironalactone', 'levofloxacin', 'prednisolone', 'cellcept', 'medroxyprogesterone', 'preduibone', 'rifampin', 'hydroxyzine prn', 'metolazone', 'alfalfa complex', 'lamictal', 'renagel', 'moxifloxacin', 'chlorthalidone', 'insulin lispro', 'fosinopril sodium', 'ferrous gluconate', 'valsartan', 'darbopoetin', 'beclomethasone dipropionate', 'nitrofurantbin', 'clopidogrel bisulfate', 'no simvastatin', 'nitroglycerine', 'not disulfiram', 'fluoxetine', 'vitamin c and minerals', 'mg', 'not fluvoxamine', 'miralax', 'zoloft', 'pentoxifylline', 'acitretin', 'depakote er', 'no interacting medications', 'pantoprazol', 'benzapril', 'vitamin b6', 'iron sulfate', 'ntg sr po qd', 'kadiam', 'digoxin', 'zidovudine', 'buspirone hcl', 'finsateride', 'cardizem er', 'paroxetine hcl', 'cefepime', 'omega-3', 'docusate sodium', 'timolol maleate', 'aspirin', 'lantus insulin', 'metoclapramide', 'hcl', 'cartia', 'glycolax', 'carvediol', 'dilitazem', 'proxetine', 'viread', 'not celebrex', 'rofecoxib', 'flecaininde', 'tessalon', 'niferex', 'diclofenac/misoprostol', 'ceftriaxone', 'lotensin', 'diovan', 'procardia', 'piperacillin/tazobactam', 'asa', 'pygeneum africanum extract', 'not liotrix', 'betaxolo', 'indomethacin', 'loscol', 'not cefamandole', 'arosiglitazone', 'montelukast sodium', 'selenium', 'requip', 'accupril', 'oxygen', 'not cefotentan', 'glucosamine/chondroitin sulfate a', 'diazepam', 'osteo-biflex', 'amaryl', 'plaquenil', 'metopolol', 'metoclopramide hcl', 'magnesium', 'lupron', 'not cefoperazone', 'wafarin', 'pacerone', 'poly glycol', 'ultrase mt', 'verapamil', 'vitaminmin b12', 'imatinib', 'azmacort', 'amitriptylline', 'memantine', 'k-phos', 'folice acid', 'abacavir/lamivudine/zidivudine', 'chlorthialidone', 'desipramine', 'trotropium', 'synthroid', 'lexapro', 'tiagabine', 'senna', 'esomprazole', 'tolterodine', 'juice plus supplement', 'not anutrane', 'diphenhydramine hcl', 'potasium', 'ipratroprium inhl', 'enicillin', 'cimetidine', 'levaquin', 'mycophenolate', 'verapamil hcl', 'ms contin', 'metaformin', 'micronor', 'propafenone', 'paclitaxel', 'ferrous sulfate', 'reg insulin ss', 'anafoanil', 'not acetaminophen', 'carisprodol', 'taxol', 'cimetadine', 'cardura', 'cortisone nasal spray', 'gertiflow', 'rantidine hydrochloride', 'labetolol', 'excedrin', 'cefriaxone', 'carbidopa/levodopa', 'sertraline hcl', 'ditiazem', 'metoclopramide', 'penicillin', 'albuturol/iprat inhl', 'estrace', 'nacho3', 'colcuicine', 'ocuvitamin e', 'enalapril maleate', 'miacalcin nasal spray', 'hydralazine', 'salmeterol inh', 'paracetamol', 'zyvox', 'oxycontin', 'metoprolol/hydrochlorothiazide', 'atorvaquone', 'insulin novalog prn', 'ketoconazole', 'fluticasone nasal', 'amitryitypine', 'methylphenidate', 'not atorvastatin', 'risedronate sodium', 'codeine', 'sentry multivitamin w/luten', 'paroxetine', 'amlodipine beslate/benazepril', 'mineral oil', 'benztropine', 'insulin humulin', 'mylanta', 'calcium gluconate', 'glucosamine/chondroitin', 'oxycodo/acetami', 'acarbase', 'isosorbide mononitrate er', 'sucralfate', 'eye bright plus', 'lomotil', 'axid', 'atacand/hydrochlorothiazide', 'amp/sulbactam', 'hydrocone/acetaminophen', 'solenium', 'orlistat', 'moexipril/hydrochlorothiazide', 'nitrek', 'acyclovir', 'flecainide acetate', 'not simvastatin', 'beta-carotene(a) w-c & e/min', 'folic acid/cyanacobalamin/pyridoxine', 'ipratropium inhalation', 'cordalol', 'dexamethasone', 'budesonide', 'not aspirin', 'fosamax', 'insulin ultralente', 'kcl', 'bisacodyl', 'atorvastatin', 'glargine', 'carmol topical', 'amiloride', 'abacavir', 'metformine', 'darvon n', 'magnesium oxide', 'drisdol', 'avopro', 'not triamcinolone', 'prilosec otc', 'nitrofurantoin', 'triamcinolone cream', 'digitek', 'red yeast rice extract', 'humulin', 'mirapex', 'hydroxyurea', 'flagyl', 'dipyridamol', 'actonel', 'dhea', 'trileptal', 'dofetilide', 'pollen extract', 'humalog', 'niacin', 'carvedilol, hydantoin, nifedipine', 'glipizide er', 'alfalfa', 'amoxicillin trihydrate', 'fluvastatin', 'quinine', 'd-methorphan hb/acetaminophen', 'shark cartilage', 'haloperidol', 'bolivian root', 'imipramine', 'antiretroviral', 'glucosamine sulfate', 'hydrochlorithiazide', 'not carbamazepine', 'salmeterol xinafoate', 'diltiazem er', 'nexium', 'sulfa', 'perindopril', 'lantus', 'mevacor', 'lumigan', 'quinaglute duratabs', 'meclizine hcl', 'phenobarbital', 'sinemet', 'guaifenisin', 'tylenol', 'cyclosporine', 'propanolol', 'compazine', 'pioglitazone hcl', 'nateglinide', 'coumdain', 'thiamine/folic acid', 'triamcinolone acetonide', 'tizanidine', 'zocor', 'prochlorperazine', 'enoxaprin', 'glyburide', 'levetiracetam', 'atenolol', 'lidocaine', 'simvastatin', 'valproate', 'tiotropium mdi', 'zoplclone', 'quinapril hcl', 'not vitamin k', 'eye caps otc', 'prochloperazine', 'capsaicin', 'levitra', 'folic acid', 'insulin 6r', 'dapsone', 'cholestyramine', 'not thyroid hormone', 'pepcid ac', 'zyprexa', 'hydrocod/acetaminophen', 'not thyrogobulin', 'arthrotec', 'lamentil', 'proscar', 'roxanol', 'brinzolamide', 'not levovlaxacin', 'salmeterol inhaler', 'carevedilol', 'atrovent 18mcg', 'effexor', 'pyridostigmine', 'not ticlopidine', 'imdur', 'tear substitute eye', 'ultrafine insulin syringe', 'aspriin', 'pravochol', 'cyclophosphamide', 'albut/ipra inhl', 'bumex', 'prednosone', 'amiodarone', 'combivent', 'entacapone', 'demedex', 'aspercream', 'azacort', 'infliximab', 'vitamin e/vitamin c', 'glucaphape', 'fe bisgly/fe ps cmplx', 'methocarbamol', 'morphine sulfate', 'augmentin', 'not metronidazole', 'timoptic', 'omega-3 fatty acids', 'occuvitamin e', 'atropin eye drops', 'spironolactone/hydrochlorothiazide', 'oxycodone hcl', 'vitamin b and c complex', 'lanthanum', 'oxycodine', 'miacalcin', 'rosiglitazone', 'flomax', 'sildenafil prn', 'sski', 'prioxicam', 'calcitonin', 'insulin reg sliding scale', 'nitrofurantoin macrocrystal', 'benzylhydrochlorophiazide', 'thyroxine', 'lisonopril', 'clarinex', 'indapamide', 'fluticasone/salmeterol', 'furosemidec', 'seroquel', 'reglan', 'timolol maleate/dorzolam hcl', 'ipratropium inhaler', 'vancomycin', 'oxybutynin', 'heparin', 'nifedipine xl', 'rispiridone', 'ensure', 'nasacort', 'benzepril', 'multivitamin (centrum)', 'rapamycin', 'nicardipine', 'topiramate', 'papaya papain', 'darvocet', 'l-thyroxin', 'cefuroxime', 'cromolyn inhl', 'tamsulosin hcl', 'miglitol', 'hydrochloroquine', 'ssd-af', 'zafirlukast', 'dl-alpha tocopheryl acetate', 'perindopril erbumine', 'serenoa repens (palmtree)', 'codeine phospate', 'viracept', 'amlodipine besylate', 'terazosin hcl', 'not tiagabine', 'chrondoitin', 'perphenazine', 'guaifenesin', 'thiethylperazine', 'not bextra', 'penicillin vk', 'resource diabetic fluid', 'isosorbide mononitrate', 'ketoprofen topical gel', 'albuterol/ipratropium', 'enoxaprin sodium', 'oxazepam', 'benzonatate', 'heparin infusion', 'ipatropium inhl', 'methylprednisolone', 'panafil ointment', 'colestipol', 'demodes', 'rabeprazole sodium', 'rolaids', 'bcp', 'epoetin alfa', 'ropinirol', 'sertraline', 'rivastigmine', 'hydrxyurea', 'multivitamin without k', 'isdn', 'allopurinal', 'vitamin d', 'benazepril hcl', 'oxycotin', '`', 'carteolol hcl', 'ranitidine hcl', 'glucophage', 'docusate', 'calcium with vitamin d', 'antacid', 'celexa', 'relpax', 'paroxetin', 'cetepime', 'hydrocortisone ointment', 'lancets', 'doxapin', 'tmp/smx', 'levobunolol', 'bumetadine', 'promethazine', 'acetaminophen/codiene #3', 'donepezil hcl', 'escitalopram oxalate', 'not paroxetine', 'pravastatin', 'fluticasone/slameterol', 'cranberry tablets', 'glibenclamide', 'inhibit2c9', 'prazosin', 'calcium carbonate antacid', 'testosterone', 'carisoprodol', 'fexofenadine hcl', 'amoxicillin/clavulanic acid', 'lactulose', 'prilosec', 'budesonide spray', 'nifedipine xr', 'monopril', 'bearberry', 'naproxen', 'cordicidim', 'carnedilol', 'betaxolol', 'vitamin b complex', 'adalimumab', 'valeriana', 'baclofin', 'not oral contraceptives', 'liothyronin', 'hydrocodone bit/homatropine', 'glucosamine, lysine', 'lovastantin', 'alpha lipoic acid', 'endocet', 'zopiclone', 'triamterene/hydrochlorothiazid', 'simvastatin/ezetimibe', 'methimazole', 'mesalamine', 'hydroxychloroqu', 'rabeprazole', 'risperdal', 'ergocalciferol', 'glybride', 'nystatin topical', 'darvocet-n', 'fluticascone', 'sprionolactone', 'meclizine', 'cipro', 'insulin nph human recom', 'vitamin b12', 'gelatin capsule', 'fuorosemide', 'b-stress with zinc', 'lorazepam', 'carbamide topical', 'albuterol/irpatrop inhl', 'carbonyl', 'provera', 'aledronate', 'benzaipril', 'catapres patch', 'flonase nasal spray', 'polycitric k', 'guaifenisin and dextromethorphan', 'trazadone', 'eyedrops', 'amimtrytiline', 'anusol hc', 'bumetanide', 'acetaminophen extra strength', 'filgrastim', 'conjugated estrogens', 'anithrombin', 'placidel', 'fish oil', 'acetaminophen/dp-hydram hcl', 'morphine sulphate', 'bactrim', 'oxybutyhin', 'oxybutynin chloride', 'valproic acid', 'not penicillin', 'ramipril', 'dextropropoxyphene', 'reg insulin', 'albuterol/ipratropium mdi', 'glyprizide', 'vitamin b with vitamin c', \"multivitamin (women's once a day)\", 'ntg po', 'lanus', 'nephlex', 'clotrimazole 1% cream', 'amlodpine', 'clorazepate', 'fluticasone mdi', 'ativan', 'calcium polycarbophil', 'bisoprolol', 'calicium acetate', 'nephrocaps', 'insulin', 'insulin gargine', 'crestor', 'hydrochlorthiazide', 'simvastain', 'clinoril', 'aspirin grain', 'famotidine', 'tamoxifen', 'triamterene', 'valqanciclovir', 'candesartam', 'inj trimacinolone', 'concerta', 'divalproex', 'contin', 'amoxicillin/clavulanate', 'robitussin', 'brimonidine', 'multivitamin with 25 mcg vitamin k', 'foltx', 'benedryl', 'tramadol hcl', 'nonsteroidal anti-inflammatory', 'cinnarizine', 'calcium citrate/mgox/vitamin d3/b6/min', 'grapeseed', 'glimeperide', 'viagra', 'ipratroprium/albuterol', 'lovastatin', 'flunisobide', 'zofram', 'trihexyphenidyl', 'pyridoxine', 'os cal d', 'dorzolamide', 'kc l', 'regular strength tums', 'methadone', 'alenodol', 'tamulosin', 'statin', 'diltazem', 'ethacrynic acid', 'fluoxetine hcl furosemide', 'no aspirin', 'neurontin', 'salsalate', 'smz/tmp', 'maxzide', 'nephrocap', 'fk506', 'epivir', 'candersartan', 'lansazaprole', 'performax', 'haloperidol lactacte', 'calcium complete', 'aluminum hydroxide', 'not lindane', 'garlic', 'meprobamate', 'nystatin', 'norethindrone', 'budesonide inhalation', 'humulin insulin', 'septra ds', 'cinacalcet', 'tracleer', 'inj methylprednisolone with lidocaine', 'dicyclomine', 'd', 'bismuth subsalicylate', 'terbutalin', 'neo-cortisone', 'calcium and vitamin d', 'subllgual nitrogylcerin', 'enoxaparin', 'calcium citrate', 'amphotericin b', 'citalopram', 'haloperiodol', 'verapamil er', 'flecianide', 'glipizine', 'linezolid', 'furosemide, spironolacton', 'zestril', 'ester-c', 'sulfasalazine', 'not thyroid', 'claritin', 'gralapril', 'protonix', 'benadryl', 'propofenone', 'guaifenesen', 'bendroflumethiazide', 'voglibose', 'b2/vitamin a,c & e/lut/zeaxanth/mn', 'alpha-interferon', 'doxazosin', 'aciphex', 'clorpromazina', 'ezetimibi', 'not cimetidine', 'insulin lantus', 'tranda/verapamil', 'megestrol', 'milk of magnesia', 'sonata', 'sodium bicarbonate', 'asacol', 'fexofenadine hydrochloride', 'prochlorperazin', 'vitamin b', 'analpram', 'tuberculin', 'nifedipine er', 'zyvec', 'carbamide peroxide', 'beclomethasone nasal spray', 'calcium carbonate with vitamin d', 'coumadin', 'tiazac er', 'nph insulin', 'zanaflex', 'terozasin', 'erythromycin', 'qualitest', 'fp zinc', 'mexilitine', 'allupurinol', 'vitamins', 'sudafed', 'nicotine lozenge', 'bisoprolo', 'atrovent nebulizer', 'amlodipine', 'hydromorphine', 'truvada', 'czetimibe', 'calcium citrate with vitamin d', 'effexor xr', 'guaifensen', 'salbutamol inhalation', 'vitamin a', 'metoprol', 'prempro', 'restaril', 'serevent', 'icaps', 'mgso4', 'betimol eye drops', 'testosterone gel', 'hdilaudid', 'goserelin', 'aspirin and/or palvix and/or  dipyridamole', 'olmesartan benicar', 'losatan', 'fluconazole', 'acetaminophen', 'azathioprine', 'ezetmibe', 'sulindac', 'amarye', 'toprol xl', 'glipiside', 'phenergan', 'hydroxychloroquine', 'amantadine', 'boric acid', 'green tea', 'not propaferone', 'pantoprazole', 'hydroxyzine hcl', 'sustiva', 'levobunolol  hcl', 'amiodorone', 'lancet', 'beta-carotene(a) w-c & e/se', 'metformin hcl', 'methyldopa', 'felodipine', 'premarin', 'rocaltrol', 'multivitamin with k', 'rosiglitazone maleate', 'moduretic', 'dextromethorphan', 'coenzyme q10, estroven, fish oil', 'keparet', 'enlapril', 'topamax', 'albut inh', 'garlic oil', 'avapro', 'oilatum ad', 'astorvastatin', 'propiomazine', 'enalapril', 'alprostadil', 'pilocarpine', 'econazole', 'nicotine patch', 'spirololactone', 'enalapiril/vasotec', 'micardis', 'sl nitroglycerin', 'terozosin', 'acarbose', 'kava kava', 'sumitriptan prn', 'fluisolide', 'zyrtec', 'bicalutamide'}\n",
      "Length of set: 1682\n"
     ]
    }
   ],
   "source": [
    "### Check how many medications are there.\n",
    "\n",
    "Q_list = []\n",
    "Q = df['Medications'].str.split(';',expand=True)\n",
    "for index_row, row in Q.iterrows():\n",
    "  for index_clm, column in Q.iteritems():\n",
    "    # print(index_clm, ' & ', index_row)\n",
    "    # print(Q[index_clm][index_row])\n",
    "    if (Q[index_clm][index_row] != None) and (Q[index_clm][index_row] != np.nan) and (type(Q[index_clm][index_row])==str):\n",
    "      Q_list.append(Q[index_clm][index_row].strip().lower())\n",
    "Medications_categories = set(Q_list)\n",
    "print(Q.head())\n",
    "print('**************************')\n",
    "print('Medications Categories:',Medications_categories)\n",
    "print('Length of set:',len(Medications_categories))"
   ]
  },
  {
   "cell_type": "code",
   "execution_count": 7,
   "metadata": {
    "colab": {
     "base_uri": "https://localhost:8080/"
    },
    "id": "twz112FnexGg",
    "outputId": "962d6699-2bc4-43e3-b623-cfeff39195a4"
   },
   "outputs": [
    {
     "name": "stdout",
     "output_type": "stream",
     "text": [
      "Aspirin:\n",
      " 0.0    2924\n",
      "1.0     916\n",
      "Name: Aspirin, dtype: int64 \n",
      " **************************************************\n",
      "Acetaminophen or Paracetamol (Tylenol):\n",
      " 0.0    1773\n",
      "1.0     501\n",
      "Name: Acetaminophen or Paracetamol (Tylenol), dtype: int64 \n",
      " **************************************************\n",
      "Was Dose of Acetaminophen or Paracetamol (Tylenol) >1300mg/day:\n",
      " 0.0    1152\n",
      "1.0       7\n",
      "Name: Was Dose of Acetaminophen or Paracetamol (Tylenol) >1300mg/day, dtype: int64 \n",
      " **************************************************\n",
      "Simvastatin (Zocor):\n",
      " 0.0    3296\n",
      "1.0     565\n",
      "Name: Simvastatin (Zocor), dtype: int64 \n",
      " **************************************************\n",
      "Atorvastatin (Lipitor):\n",
      " 0.0    2235\n",
      "1.0     220\n",
      "Name: Atorvastatin (Lipitor), dtype: int64 \n",
      " **************************************************\n",
      "Fluvastatin (Lescol):\n",
      " 0.0    2411\n",
      "1.0      12\n",
      "Name: Fluvastatin (Lescol), dtype: int64 \n",
      " **************************************************\n",
      "Lovastatin (Mevacor):\n",
      " 0.0    2398\n",
      "1.0      33\n",
      "Name: Lovastatin (Mevacor), dtype: int64 \n",
      " **************************************************\n",
      "Pravastatin (Pravachol):\n",
      " 0.0    2368\n",
      "1.0      65\n",
      "Name: Pravastatin (Pravachol), dtype: int64 \n",
      " **************************************************\n",
      "Rosuvastatin (Crestor):\n",
      " 0.0    2410\n",
      "1.0      14\n",
      "Name: Rosuvastatin (Crestor), dtype: int64 \n",
      " **************************************************\n",
      "Cerivastatin (Baycol):\n",
      " 0.0    2136\n",
      "Name: Cerivastatin (Baycol), dtype: int64 \n",
      " **************************************************\n",
      "Amiodarone (Cordarone):\n",
      " 0.0    3905\n",
      "1.0     277\n",
      "Name: Amiodarone (Cordarone), dtype: int64 \n",
      " **************************************************\n",
      "Carbamazepine (Tegretol):\n",
      " 0.0    2403\n",
      "1.0      27\n",
      "Name: Carbamazepine (Tegretol), dtype: int64 \n",
      " **************************************************\n",
      "Phenytoin (Dilantin):\n",
      " 0.0    2400\n",
      "1.0      24\n",
      "Name: Phenytoin (Dilantin), dtype: int64 \n",
      " **************************************************\n",
      "Rifampin or Rifampicin:\n",
      " 0.0    2419\n",
      "1.0       4\n",
      "Name: Rifampin or Rifampicin, dtype: int64 \n",
      " **************************************************\n",
      "Sulfonamide Antibiotics:\n",
      " 0.0    2407\n",
      "1.0      15\n",
      "Name: Sulfonamide Antibiotics, dtype: int64 \n",
      " **************************************************\n",
      "Macrolide Antibiotics:\n",
      " 0.0    2417\n",
      "1.0       6\n",
      "Name: Macrolide Antibiotics, dtype: int64 \n",
      " **************************************************\n",
      "Anti-fungal Azoles:\n",
      " 0.0    2409\n",
      "1.0      17\n",
      "Name: Anti-fungal Azoles, dtype: int64 \n",
      " **************************************************\n",
      "Herbal Medications, Vitamins, Supplements:\n",
      " 0.0    987\n",
      "1.0    921\n",
      "Name: Herbal Medications, Vitamins, Supplements, dtype: int64 \n",
      " **************************************************\n"
     ]
    }
   ],
   "source": [
    "### Count drug usages.\n",
    "\n",
    "print('Aspirin:\\n',df['Aspirin'].value_counts(),'\\n','*'*50)\n",
    "print('Acetaminophen or Paracetamol (Tylenol):\\n',df['Acetaminophen or Paracetamol (Tylenol)'].value_counts(),'\\n','*'*50)\n",
    "print('Was Dose of Acetaminophen or Paracetamol (Tylenol) >1300mg/day:\\n',df['Was Dose of Acetaminophen or Paracetamol (Tylenol) >1300mg/day'].value_counts(),'\\n','*'*50)\n",
    "print('Simvastatin (Zocor):\\n',df['Simvastatin (Zocor)'].value_counts(),'\\n','*'*50)\n",
    "print('Atorvastatin (Lipitor):\\n',df['Atorvastatin (Lipitor)'].value_counts(),'\\n','*'*50)\n",
    "print('Fluvastatin (Lescol):\\n',df['Fluvastatin (Lescol)'].value_counts(),'\\n','*'*50)\n",
    "print('Lovastatin (Mevacor):\\n',df['Lovastatin (Mevacor)'].value_counts(),'\\n','*'*50)\n",
    "print('Pravastatin (Pravachol):\\n',df['Pravastatin (Pravachol)'].value_counts(),'\\n','*'*50)\n",
    "print('Rosuvastatin (Crestor):\\n',df['Rosuvastatin (Crestor)'].value_counts(),'\\n','*'*50)\n",
    "print('Cerivastatin (Baycol):\\n',df['Cerivastatin (Baycol)'].value_counts(),'\\n','*'*50)\n",
    "print('Amiodarone (Cordarone):\\n',df['Amiodarone (Cordarone)'].value_counts(),'\\n','*'*50)\n",
    "print('Carbamazepine (Tegretol):\\n',df['Carbamazepine (Tegretol)'].value_counts(),'\\n','*'*50)\n",
    "print('Phenytoin (Dilantin):\\n',df['Phenytoin (Dilantin)'].value_counts(),'\\n','*'*50)\n",
    "print('Rifampin or Rifampicin:\\n',df['Rifampin or Rifampicin'].value_counts(),'\\n','*'*50)\n",
    "print('Sulfonamide Antibiotics:\\n',df['Sulfonamide Antibiotics'].value_counts(),'\\n','*'*50)\n",
    "print('Macrolide Antibiotics:\\n',df['Macrolide Antibiotics'].value_counts(),'\\n','*'*50)\n",
    "print('Anti-fungal Azoles:\\n',df['Anti-fungal Azoles'].value_counts(),'\\n','*'*50)\n",
    "print('Herbal Medications, Vitamins, Supplements:\\n',df['Herbal Medications, Vitamins, Supplements'].value_counts(),'\\n','*'*50)"
   ]
  },
  {
   "cell_type": "code",
   "execution_count": 8,
   "metadata": {
    "colab": {
     "base_uri": "https://localhost:8080/"
    },
    "id": "z4a7vVbkfZLv",
    "outputId": "d721f53a-fec1-40ba-aeac-7490c8cad94d"
   },
   "outputs": [
    {
     "name": "stdout",
     "output_type": "stream",
     "text": [
      "Diabetes:\n",
      " 0.0    2669\n",
      "1.0     614\n",
      "Name: Diabetes, dtype: int64 \n",
      " **************************************************\n",
      "Congestive Heart Failure and/or Cardiomyopathy:\n",
      " 0.0    3275\n",
      "1.0     737\n",
      "Name: Congestive Heart Failure and/or Cardiomyopathy, dtype: int64 \n",
      " **************************************************\n",
      "Valve Replacement:\n",
      " 0.0    2943\n",
      "1.0    1015\n",
      "Name: Valve Replacement, dtype: int64 \n",
      " **************************************************\n"
     ]
    }
   ],
   "source": [
    "### Count deseases.\n",
    "\n",
    "print('Diabetes:\\n',df['Diabetes'].value_counts(),'\\n','*'*50)\n",
    "print('Congestive Heart Failure and/or Cardiomyopathy:\\n',df['Congestive Heart Failure and/or Cardiomyopathy'].value_counts(),'\\n','*'*50)\n",
    "print('Valve Replacement:\\n',df['Valve Replacement'].value_counts(),'\\n','*'*50)"
   ]
  },
  {
   "cell_type": "code",
   "execution_count": 9,
   "metadata": {
    "colab": {
     "base_uri": "https://localhost:8080/"
    },
    "id": "N6BCjYuWn9PV",
    "outputId": "76f75382-dfd6-4f4a-e1d5-2e8e688820bf"
   },
   "outputs": [
    {
     "name": "stdout",
     "output_type": "stream",
     "text": [
      "Current Smoker:\n",
      " 0.0    2771\n",
      "1.0     449\n",
      "Name: Current Smoker, dtype: int64\n"
     ]
    }
   ],
   "source": [
    "print('Current Smoker:\\n',df['Current Smoker'].value_counts())"
   ]
  },
  {
   "cell_type": "markdown",
   "metadata": {
    "id": "U2nb_sYTx7Fk"
   },
   "source": [
    "**Visualization**"
   ]
  },
  {
   "cell_type": "code",
   "execution_count": 10,
   "metadata": {
    "id": "w9fCMyq_AZRU"
   },
   "outputs": [
    {
     "ename": "TypeError",
     "evalue": "'<' not supported between instances of 'tuple' and 'int'",
     "output_type": "error",
     "traceback": [
      "\u001b[1;31m---------------------------------------------------------------------------\u001b[0m",
      "\u001b[1;31mTypeError\u001b[0m                                 Traceback (most recent call last)",
      "Cell \u001b[1;32mIn[10], line 10\u001b[0m\n\u001b[0;32m      8\u001b[0m \u001b[38;5;28;01mfor\u001b[39;00m x \u001b[38;5;129;01min\u001b[39;00m \u001b[38;5;28mrange\u001b[39m(\u001b[38;5;241m5\u001b[39m):   \u001b[38;5;66;03m# L.shape[0] = 5\u001b[39;00m\n\u001b[0;32m      9\u001b[0m   total_l \u001b[38;5;241m=\u001b[39m total_l \u001b[38;5;241m+\u001b[39m [\u001b[38;5;28meval\u001b[39m(i) \u001b[38;5;28;01mfor\u001b[39;00m i \u001b[38;5;129;01min\u001b[39;00m \u001b[38;5;28mlist\u001b[39m(L[x])]   \u001b[38;5;66;03m# change str to int, & add to previous list\u001b[39;00m\n\u001b[1;32m---> 10\u001b[0m \u001b[43mtotal_l\u001b[49m\u001b[38;5;241;43m.\u001b[39;49m\u001b[43msort\u001b[49m\u001b[43m(\u001b[49m\u001b[43m)\u001b[49m\n\u001b[0;32m     11\u001b[0m total_l \u001b[38;5;241m=\u001b[39m [i \u001b[38;5;28;01mfor\u001b[39;00m i \u001b[38;5;129;01min\u001b[39;00m total_l \u001b[38;5;28;01mif\u001b[39;00m i \u001b[38;5;241m!=\u001b[39m \u001b[38;5;241m-\u001b[39m\u001b[38;5;241m1\u001b[39m]\n",
      "\u001b[1;31mTypeError\u001b[0m: '<' not supported between instances of 'tuple' and 'int'"
     ]
    }
   ],
   "source": [
    "### Visualize Indications Histogram.\n",
    "\n",
    "L = df['Indication for Warfarin Treatment'].str.split(';',expand=True)\n",
    "L = L.fillna('-1')\n",
    "L.replace(to_replace = '1 or 2', value = '0', inplace=True)\n",
    "# df.hist(column='Indication for Warfarin Treatment')\n",
    "total_l = []\n",
    "for x in range(5):   # L.shape[0] = 5\n",
    "  total_l = total_l + [eval(i) for i in list(L[x])]   # change str to int, & add to previous list\n",
    "total_l.sort()\n",
    "total_l = [i for i in total_l if i != -1]"
   ]
  },
  {
   "cell_type": "code",
   "execution_count": 1,
   "metadata": {
    "colab": {
     "base_uri": "https://localhost:8080/",
     "height": 296
    },
    "id": "C6_fj8z4BGa6",
    "outputId": "1957d058-bd56-435d-8269-8a627146f8b2"
   },
   "outputs": [
    {
     "ename": "NameError",
     "evalue": "name 'pd' is not defined",
     "output_type": "error",
     "traceback": [
      "\u001b[1;31m---------------------------------------------------------------------------\u001b[0m",
      "\u001b[1;31mNameError\u001b[0m                                 Traceback (most recent call last)",
      "Cell \u001b[1;32mIn[1], line 1\u001b[0m\n\u001b[1;32m----> 1\u001b[0m hist \u001b[38;5;241m=\u001b[39m \u001b[43mpd\u001b[49m\u001b[38;5;241m.\u001b[39mDataFrame\u001b[38;5;241m.\u001b[39mfrom_dict(Counter(total_l),orient\u001b[38;5;241m=\u001b[39m\u001b[38;5;124m'\u001b[39m\u001b[38;5;124mindex\u001b[39m\u001b[38;5;124m'\u001b[39m)\n\u001b[0;32m      2\u001b[0m hist\u001b[38;5;241m.\u001b[39mplot(kind\u001b[38;5;241m=\u001b[39m\u001b[38;5;124m'\u001b[39m\u001b[38;5;124mbar\u001b[39m\u001b[38;5;124m'\u001b[39m,title\u001b[38;5;241m=\u001b[39m\u001b[38;5;124m'\u001b[39m\u001b[38;5;124mHistogram of \u001b[39m\u001b[38;5;124m\"\u001b[39m\u001b[38;5;124mIndication for Warfarin Treatment\u001b[39m\u001b[38;5;124m\"\u001b[39m\u001b[38;5;124m'\u001b[39m,legend \u001b[38;5;241m=\u001b[39m\u001b[38;5;28;01mFalse\u001b[39;00m,grid \u001b[38;5;241m=\u001b[39m\u001b[38;5;28;01mTrue\u001b[39;00m)\n",
      "\u001b[1;31mNameError\u001b[0m: name 'pd' is not defined"
     ]
    }
   ],
   "source": [
    "hist = pd.DataFrame.from_dict(Counter(total_l),orient='index')\n",
    "hist.plot(kind='bar',title='Histogram of \"Indication for Warfarin Treatment\"',legend =False,grid =True)"
   ]
  },
  {
   "cell_type": "code",
   "execution_count": 12,
   "metadata": {
    "id": "J2H30T8banms"
   },
   "outputs": [
    {
     "ename": "TypeError",
     "evalue": "'<' not supported between instances of 'str' and 'int'",
     "output_type": "error",
     "traceback": [
      "\u001b[1;31m---------------------------------------------------------------------------\u001b[0m",
      "\u001b[1;31mTypeError\u001b[0m                                 Traceback (most recent call last)",
      "Cell \u001b[1;32mIn[12], line 16\u001b[0m\n\u001b[0;32m     14\u001b[0m I\u001b[38;5;241m.\u001b[39mreplace(to_replace \u001b[38;5;241m=\u001b[39m \u001b[38;5;124m'\u001b[39m\u001b[38;5;124m90+\u001b[39m\u001b[38;5;124m'\u001b[39m, value \u001b[38;5;241m=\u001b[39m \u001b[38;5;28mint\u001b[39m(\u001b[38;5;241m90\u001b[39m), inplace\u001b[38;5;241m=\u001b[39m\u001b[38;5;28;01mTrue\u001b[39;00m)\n\u001b[0;32m     15\u001b[0m I \u001b[38;5;241m=\u001b[39m I\u001b[38;5;241m.\u001b[39mvalues\u001b[38;5;241m.\u001b[39mtolist()\n\u001b[1;32m---> 16\u001b[0m \u001b[43mI\u001b[49m\u001b[38;5;241;43m.\u001b[39;49m\u001b[43msort\u001b[49m\u001b[43m(\u001b[49m\u001b[43m)\u001b[49m\n\u001b[0;32m     17\u001b[0m I \u001b[38;5;241m=\u001b[39m [i \u001b[38;5;28;01mfor\u001b[39;00m i \u001b[38;5;129;01min\u001b[39;00m I \u001b[38;5;28;01mif\u001b[39;00m i \u001b[38;5;241m!=\u001b[39m \u001b[38;5;241m-\u001b[39m\u001b[38;5;241m1\u001b[39m]\n",
      "\u001b[1;31mTypeError\u001b[0m: '<' not supported between instances of 'str' and 'int'"
     ]
    }
   ],
   "source": [
    "### Visualize Age Histogram.\n",
    "\n",
    "df = pd.read_csv(\"warfarin.csv\")\n",
    "I = df['Age']\n",
    "I = I.fillna(-1)\n",
    "I.replace(to_replace = '19-Oct', value = int(10), inplace=True)\n",
    "I.replace(to_replace = '20 - 29', value = int(20), inplace=True)\n",
    "I.replace(to_replace = '30 - 39', value = int(30), inplace=True)\n",
    "I.replace(to_replace = '40 - 49', value = int(40), inplace=True)\n",
    "I.replace(to_replace = '50 - 59', value = int(50), inplace=True)\n",
    "I.replace(to_replace = '60 - 69', value = int(60), inplace=True)\n",
    "I.replace(to_replace = '70 - 79', value = int(70), inplace=True)\n",
    "I.replace(to_replace = '80 - 89', value = int(80), inplace=True)\n",
    "I.replace(to_replace = '90+', value = int(90), inplace=True)\n",
    "I = I.values.tolist()\n",
    "I.sort()\n",
    "I = [i for i in I if i != -1]"
   ]
  },
  {
   "cell_type": "code",
   "execution_count": 13,
   "metadata": {
    "colab": {
     "base_uri": "https://localhost:8080/",
     "height": 302
    },
    "id": "ExzhD3XJ_p3D",
    "outputId": "80dfb8f2-1080-4862-afb1-d6a22e385ec0"
   },
   "outputs": [
    {
     "data": {
      "text/plain": [
       "<Axes: title={'center': 'Histogram of \"Age\"'}>"
      ]
     },
     "execution_count": 13,
     "metadata": {},
     "output_type": "execute_result"
    },
    {
     "data": {
      "image/png": "[encoded data removed]",
      "text/plain": [
       "<Figure size 640x480 with 1 Axes>"
      ]
     },
     "metadata": {},
     "output_type": "display_data"
    }
   ],
   "source": [
    "hist = pd.DataFrame.from_dict(Counter(I),orient='index')\n",
    "hist.plot(kind='bar',title='Histogram of \"Age\"',legend =False,grid =True, rot=90,)"
   ]
  },
  {
   "cell_type": "code",
   "execution_count": 14,
   "metadata": {
    "colab": {
     "base_uri": "https://localhost:8080/",
     "height": 302
    },
    "id": "dQpSbykgn2eO",
    "outputId": "52c37e65-b996-4872-a689-a4bfd340d255"
   },
   "outputs": [
    {
     "ename": "TypeError",
     "evalue": "'<' not supported between instances of 'str' and 'int'",
     "output_type": "error",
     "traceback": [
      "\u001b[1;31m---------------------------------------------------------------------------\u001b[0m",
      "\u001b[1;31mTypeError\u001b[0m                                 Traceback (most recent call last)",
      "Cell \u001b[1;32mIn[14], line 24\u001b[0m\n\u001b[0;32m     22\u001b[0m df_age_list\u001b[38;5;241m.\u001b[39mreplace(to_replace \u001b[38;5;241m=\u001b[39m \u001b[38;5;124m'\u001b[39m\u001b[38;5;124m90+\u001b[39m\u001b[38;5;124m'\u001b[39m, value \u001b[38;5;241m=\u001b[39m \u001b[38;5;28mint\u001b[39m(\u001b[38;5;241m90\u001b[39m), inplace\u001b[38;5;241m=\u001b[39m\u001b[38;5;28;01mTrue\u001b[39;00m)\n\u001b[0;32m     23\u001b[0m df_age_list \u001b[38;5;241m=\u001b[39m \u001b[38;5;28mlist\u001b[39m(np\u001b[38;5;241m.\u001b[39marray(df_age_list)\u001b[38;5;241m.\u001b[39msqueeze())\n\u001b[1;32m---> 24\u001b[0m \u001b[43mdf_age_list\u001b[49m\u001b[38;5;241;43m.\u001b[39;49m\u001b[43msort\u001b[49m\u001b[43m(\u001b[49m\u001b[43m)\u001b[49m\n\u001b[0;32m     25\u001b[0m df_age_list \u001b[38;5;241m=\u001b[39m [i \u001b[38;5;28;01mfor\u001b[39;00m i \u001b[38;5;129;01min\u001b[39;00m df_age_list \u001b[38;5;28;01mif\u001b[39;00m i \u001b[38;5;241m!=\u001b[39m \u001b[38;5;241m-\u001b[39m\u001b[38;5;241m1\u001b[39m]\n\u001b[0;32m     27\u001b[0m hist \u001b[38;5;241m=\u001b[39m pd\u001b[38;5;241m.\u001b[39mDataFrame\u001b[38;5;241m.\u001b[39mfrom_dict(Counter(df_age_list), orient\u001b[38;5;241m=\u001b[39m\u001b[38;5;124m'\u001b[39m\u001b[38;5;124mindex\u001b[39m\u001b[38;5;124m'\u001b[39m)\n",
      "\u001b[1;31mTypeError\u001b[0m: '<' not supported between instances of 'str' and 'int'"
     ]
    }
   ],
   "source": [
    "### Visualize Ages for Indication 4 Histogram.\n",
    "\n",
    "age_list = []\n",
    "df = pd.read_csv(\"warfarin.csv\")\n",
    "df = df.fillna('-1')\n",
    "#df.replace(to_replace = 'NA', value = np.nan, inplace=True)\n",
    "#df = df[['Indication for Warfarin Treatment','Age']].dropna(axis=0)\n",
    "\n",
    "for row in range(df.shape[0]):\n",
    "  if '4' in df['Indication for Warfarin Treatment'][row]:\n",
    "    age_list.append(df['Age'][row])\n",
    "df_age_list = pd.DataFrame(age_list, columns=['Ages for Indication 4'])\n",
    "df_age_list.replace(to_replace = '-1', value = int(-1), inplace=True)\n",
    "df_age_list.replace(to_replace = '19-Oct', value = int(10), inplace=True)\n",
    "df_age_list.replace(to_replace = '20 - 29', value = int(20), inplace=True)\n",
    "df_age_list.replace(to_replace = '30 - 39', value = int(30), inplace=True)\n",
    "df_age_list.replace(to_replace = '40 - 49', value = int(40), inplace=True)\n",
    "df_age_list.replace(to_replace = '50 - 59', value = int(50), inplace=True)\n",
    "df_age_list.replace(to_replace = '60 - 69', value = int(60), inplace=True)\n",
    "df_age_list.replace(to_replace = '70 - 79', value = int(70), inplace=True)\n",
    "df_age_list.replace(to_replace = '80 - 89', value = int(80), inplace=True)\n",
    "df_age_list.replace(to_replace = '90+', value = int(90), inplace=True)\n",
    "df_age_list = list(np.array(df_age_list).squeeze())\n",
    "df_age_list.sort()\n",
    "df_age_list = [i for i in df_age_list if i != -1]\n",
    "\n",
    "hist = pd.DataFrame.from_dict(Counter(df_age_list), orient='index')\n",
    "hist.plot(kind='bar',title='Histogram of \"Age\" in Indication 4 ',legend =False,grid =True)"
   ]
  },
  {
   "cell_type": "code",
   "execution_count": 15,
   "metadata": {
    "colab": {
     "base_uri": "https://localhost:8080/",
     "height": 301
    },
    "id": "BGwg0mPeWB69",
    "outputId": "a0766e99-925b-405e-e17d-2208946ed06c"
   },
   "outputs": [
    {
     "data": {
      "text/plain": [
       "<Axes: title={'center': 'Histogram of \"Age\" in Indication 3 '}>"
      ]
     },
     "execution_count": 15,
     "metadata": {},
     "output_type": "execute_result"
    },
    {
     "data": {
      "image/png": "[encoded data removed]",
      "text/plain": [
       "<Figure size 640x480 with 1 Axes>"
      ]
     },
     "metadata": {},
     "output_type": "display_data"
    }
   ],
   "source": [
    "### Visualize Ages for Indication 3 Histogram.\n",
    "\n",
    "age_list = []\n",
    "df = pd.read_csv(\"warfarin.csv\")\n",
    "df = df.fillna('-1')\n",
    "#df.replace(to_replace = 'NA', value = np.nan, inplace=True)\n",
    "#df = df[['Indication for Warfarin Treatment','Age']].dropna(axis=0)\n",
    "\n",
    "for row in range(df.shape[0]):\n",
    "  if '3' in df['Indication for Warfarin Treatment'][row]:\n",
    "    age_list.append(df['Age'][row])\n",
    "df_age_list = pd.DataFrame(age_list, columns=['Ages for Indication 4'])\n",
    "df_age_list.replace(to_replace = '-1', value = int(-1), inplace=True)\n",
    "df_age_list.replace(to_replace = '19-Oct', value = int(10), inplace=True)\n",
    "df_age_list.replace(to_replace = '20 - 29', value = int(20), inplace=True)\n",
    "df_age_list.replace(to_replace = '30 - 39', value = int(30), inplace=True)\n",
    "df_age_list.replace(to_replace = '40 - 49', value = int(40), inplace=True)\n",
    "df_age_list.replace(to_replace = '50 - 59', value = int(50), inplace=True)\n",
    "df_age_list.replace(to_replace = '60 - 69', value = int(60), inplace=True)\n",
    "df_age_list.replace(to_replace = '70 - 79', value = int(70), inplace=True)\n",
    "df_age_list.replace(to_replace = '80 - 89', value = int(80), inplace=True)\n",
    "df_age_list.replace(to_replace = '90+', value = int(90), inplace=True)\n",
    "df_age_list = list(np.array(df_age_list).squeeze())\n",
    "df_age_list.sort()\n",
    "df_age_list = [i for i in df_age_list if i != -1]\n",
    "\n",
    "hist = pd.DataFrame.from_dict(Counter(df_age_list), orient='index')\n",
    "hist.plot(kind='bar',title='Histogram of \"Age\" in Indication 3 ',legend =False,grid =True)"
   ]
  },
  {
   "cell_type": "markdown",
   "metadata": {
    "id": "5OytcI0_lQjs"
   },
   "source": [
    "**Models' Data**"
   ]
  },
  {
   "cell_type": "code",
   "execution_count": 16,
   "metadata": {
    "colab": {
     "base_uri": "https://localhost:8080/"
    },
    "id": "LLi9L74Foyih",
    "outputId": "1e948a1c-0612-4fd6-8f4b-26a7af9b5ee9"
   },
   "outputs": [
    {
     "ename": "ImportError",
     "evalue": "cannot import name 'confusion_matrix_display' from 'sklearn.metrics' (C:\\Users\\u249391\\AppData\\Local\\anaconda3\\lib\\site-packages\\sklearn\\metrics\\__init__.py)",
     "output_type": "error",
     "traceback": [
      "\u001b[1;31m---------------------------------------------------------------------------\u001b[0m",
      "\u001b[1;31mImportError\u001b[0m                               Traceback (most recent call last)",
      "Cell \u001b[1;32mIn[16], line 8\u001b[0m\n\u001b[0;32m      6\u001b[0m \u001b[38;5;28;01mfrom\u001b[39;00m \u001b[38;5;21;01msklearn\u001b[39;00m\u001b[38;5;21;01m.\u001b[39;00m\u001b[38;5;21;01mpreprocessing\u001b[39;00m \u001b[38;5;28;01mimport\u001b[39;00m StandardScaler\n\u001b[0;32m      7\u001b[0m \u001b[38;5;28;01mfrom\u001b[39;00m \u001b[38;5;21;01msklearn\u001b[39;00m\u001b[38;5;21;01m.\u001b[39;00m\u001b[38;5;21;01mmetrics\u001b[39;00m \u001b[38;5;28;01mimport\u001b[39;00m confusion_matrix, ConfusionMatrixDisplay\n\u001b[1;32m----> 8\u001b[0m \u001b[38;5;28;01mfrom\u001b[39;00m \u001b[38;5;21;01msklearn\u001b[39;00m\u001b[38;5;21;01m.\u001b[39;00m\u001b[38;5;21;01mmetrics\u001b[39;00m \u001b[38;5;28;01mimport\u001b[39;00m confusion_matrix_display, accuracy_score, classification_report\n\u001b[0;32m      9\u001b[0m \u001b[38;5;28;01mfrom\u001b[39;00m \u001b[38;5;21;01msklearn\u001b[39;00m\u001b[38;5;21;01m.\u001b[39;00m\u001b[38;5;21;01mmetrics\u001b[39;00m \u001b[38;5;28;01mimport\u001b[39;00m mean_squared_error\n\u001b[0;32m     11\u001b[0m Indication \u001b[38;5;241m=\u001b[39m \u001b[38;5;124m'\u001b[39m\u001b[38;5;124m4\u001b[39m\u001b[38;5;124m'\u001b[39m\n",
      "\u001b[1;31mImportError\u001b[0m: cannot import name 'confusion_matrix_display' from 'sklearn.metrics' (C:\\Users\\u249391\\AppData\\Local\\anaconda3\\lib\\site-packages\\sklearn\\metrics\\__init__.py)"
     ]
    }
   ],
   "source": [
    "# Select specific age range and indication for treatment from the whole dataset ('4' & '50-59') & set NaNs to -1\n",
    "\n",
    "from sklearn.svm import SVR, SVC\n",
    "from sklearn.linear_model import Lasso \n",
    "from sklearn.linear_model import LogisticRegression\n",
    "from sklearn.preprocessing import StandardScaler\n",
    "from sklearn.metrics import confusion_matrix, ConfusionMatrixDisplay\n",
    "from sklearn.metrics import confusion_matrix_display, accuracy_score, classification_report\n",
    "from sklearn.metrics import mean_squared_error\n",
    "\n",
    "Indication = '4'\n",
    "age = '50 - 59'\n",
    "\n",
    "delete_rows_ind = []\n",
    "delete_rows_age = []\n",
    "df = pd.read_csv(df_address)\n",
    "df = df.fillna('-1')\n",
    "L = df['Indication for Warfarin Treatment'].str.split(';',expand=True)\n",
    "L = L.fillna('-1')\n",
    "L.replace(to_replace = '1 or 2', value = '0', inplace=True)\n",
    "for row_L in range(L.shape[0]):\n",
    "  if (Indication not in L[0][row_L]) and (Indication not in L[1][row_L]) and (Indication not in L[2][row_L]) and (Indication not in L[3][row_L]) and (Indication not in L[4][row_L]):\n",
    "    delete_rows_ind.append(row_L)\n",
    "    # L.dropna(axis=0)\n",
    "I = df['Age']\n",
    "I = I.fillna(-1)\n",
    "for row_I in range(I.shape[0]):\n",
    "  if age not in I[row_I]:\n",
    "    delete_rows_age.append(row_I)\n",
    "delete_rows = list(set(delete_rows_ind+delete_rows_age))\n",
    "df.drop(delete_rows, inplace=True)\n",
    "# print(df.head())\n",
    "print('Number of patients with Indication '+Indication+' & between 50 to 59 years old is: ',df.shape[0])\n",
    "# df = df[['INR on Reported Therapeutic Dose of Warfarin','Therapeutic Dose of Warfarin']].dropna(axis=0)"
   ]
  },
  {
   "cell_type": "code",
   "execution_count": 2,
   "metadata": {
    "id": "T4i8M08EDUz5"
   },
   "outputs": [
    {
     "ename": "NameError",
     "evalue": "name 'df_used' is not defined",
     "output_type": "error",
     "traceback": [
      "\u001b[1;31m---------------------------------------------------------------------------\u001b[0m",
      "\u001b[1;31mNameError\u001b[0m                                 Traceback (most recent call last)",
      "Cell \u001b[1;32mIn[2], line 2\u001b[0m\n\u001b[0;32m      1\u001b[0m \u001b[38;5;28;01mfrom\u001b[39;00m \u001b[38;5;21;01msklearn\u001b[39;00m\u001b[38;5;21;01m.\u001b[39;00m\u001b[38;5;21;01mmodel_selection\u001b[39;00m \u001b[38;5;28;01mimport\u001b[39;00m train_test_split\n\u001b[1;32m----> 2\u001b[0m x \u001b[38;5;241m=\u001b[39m \u001b[43mdf_used\u001b[49m\u001b[38;5;241m.\u001b[39mdrop([\u001b[38;5;124m'\u001b[39m\u001b[38;5;124mTherapeutic Dose of Warfarin\u001b[39m\u001b[38;5;124m'\u001b[39m],axis\u001b[38;5;241m=\u001b[39m\u001b[38;5;241m1\u001b[39m)\n\u001b[0;32m      3\u001b[0m y \u001b[38;5;241m=\u001b[39m df_used[\u001b[38;5;124m'\u001b[39m\u001b[38;5;124mTherapeutic Dose of Warfarin\u001b[39m\u001b[38;5;124m'\u001b[39m]\n\u001b[0;32m      4\u001b[0m x_train, x_test, y_train, y_test \u001b[38;5;241m=\u001b[39m train_test_split(x, y, test_size\u001b[38;5;241m=\u001b[39m\u001b[38;5;241m0.2\u001b[39m, random_state\u001b[38;5;241m=\u001b[39m\u001b[38;5;241m42\u001b[39m)\n",
      "\u001b[1;31mNameError\u001b[0m: name 'df_used' is not defined"
     ]
    }
   ],
   "source": [
    "from sklearn.model_selection import train_test_split\n",
    "x = df_used.drop(['Therapeutic Dose of Warfarin'],axis=1)\n",
    "y = df_used['Therapeutic Dose of Warfarin']\n",
    "x_train, x_test, y_train, y_test = train_test_split(x, y, test_size=0.2, random_state=42)"
   ]
  },
  {
   "cell_type": "code",
   "execution_count": null,
   "metadata": {
    "colab": {
     "base_uri": "https://localhost:8080/"
    },
    "id": "2dq1bx1XOx6L",
    "outputId": "d0446e8e-06bd-4a0b-99cd-a6e6c7d0a924"
   },
   "outputs": [],
   "source": [
    "type(x_train)"
   ]
  },
  {
   "cell_type": "code",
   "execution_count": null,
   "metadata": {
    "colab": {
     "base_uri": "https://localhost:8080/"
    },
    "id": "p_uZ-Pmeblvg",
    "outputId": "feef05fc-adb6-4168-abb2-afad3f961d45"
   },
   "outputs": [],
   "source": [
    "y_test.shape"
   ]
  },
  {
   "cell_type": "code",
   "execution_count": null,
   "metadata": {
    "colab": {
     "base_uri": "https://localhost:8080/"
    },
    "id": "xN-cdg7nl85_",
    "outputId": "9ce874a9-5284-4f50-d5f8-cf6ceca75bc4"
   },
   "outputs": [],
   "source": [
    "np.isnan(x_train).sum()"
   ]
  },
  {
   "cell_type": "code",
   "execution_count": null,
   "metadata": {
    "colab": {
     "base_uri": "https://localhost:8080/",
     "height": 313
    },
    "id": "8YxZf7X-imn9",
    "outputId": "1c702d0f-2948-42e8-f32b-33a520b8ebd6"
   },
   "outputs": [],
   "source": [
    "plt.scatter(x, y, color = 'magenta')\n",
    "plt.xlabel('Indication for Warfarin Treatment')\n",
    "plt.ylabel('Therapeutic Dose of Warfarin')\n",
    "plt.title('Patients with Indication '+Indication)\n",
    "plt.xlim(0,7)"
   ]
  },
  {
   "cell_type": "code",
   "execution_count": null,
   "metadata": {
    "colab": {
     "base_uri": "https://localhost:8080/",
     "height": 312
    },
    "id": "oFVJDFHM1PFj",
    "outputId": "5347ebda-0c3a-4612-e6ba-3f2c1f74034d"
   },
   "outputs": [],
   "source": [
    "plt.scatter(x, y, color = 'magenta')\n",
    "plt.xlabel('Indication for Warfarin Treatment')\n",
    "plt.ylabel('Therapeutic Dose of Warfarin')\n",
    "plt.title('Patients with Indication '+Indication+' & aged between 50 - 59')\n",
    "plt.xlim(0,7)"
   ]
  },
  {
   "cell_type": "markdown",
   "metadata": {
    "id": "T9_2Y5b4VSR2"
   },
   "source": [
    "**Data Preparation**"
   ]
  },
  {
   "cell_type": "code",
   "execution_count": 3,
   "metadata": {
    "colab": {
     "base_uri": "https://localhost:8080/"
    },
    "id": "g2iVZiKaElFT",
    "outputId": "17458f83-a448-46b7-d390-e240e9b0be31"
   },
   "outputs": [
    {
     "ename": "ImportError",
     "evalue": "cannot import name 'plot_confusion_matrix' from 'sklearn.metrics' (C:\\Users\\u249391\\AppData\\Local\\anaconda3\\lib\\site-packages\\sklearn\\metrics\\__init__.py)",
     "output_type": "error",
     "traceback": [
      "\u001b[1;31m---------------------------------------------------------------------------\u001b[0m",
      "\u001b[1;31mImportError\u001b[0m                               Traceback (most recent call last)",
      "Cell \u001b[1;32mIn[3], line 7\u001b[0m\n\u001b[0;32m      5\u001b[0m \u001b[38;5;28;01mfrom\u001b[39;00m \u001b[38;5;21;01msklearn\u001b[39;00m\u001b[38;5;21;01m.\u001b[39;00m\u001b[38;5;21;01mlinear_model\u001b[39;00m \u001b[38;5;28;01mimport\u001b[39;00m LogisticRegression\n\u001b[0;32m      6\u001b[0m \u001b[38;5;28;01mfrom\u001b[39;00m \u001b[38;5;21;01msklearn\u001b[39;00m\u001b[38;5;21;01m.\u001b[39;00m\u001b[38;5;21;01mpreprocessing\u001b[39;00m \u001b[38;5;28;01mimport\u001b[39;00m StandardScaler\n\u001b[1;32m----> 7\u001b[0m \u001b[38;5;28;01mfrom\u001b[39;00m \u001b[38;5;21;01msklearn\u001b[39;00m\u001b[38;5;21;01m.\u001b[39;00m\u001b[38;5;21;01mmetrics\u001b[39;00m \u001b[38;5;28;01mimport\u001b[39;00m plot_confusion_matrix, accuracy_score, classification_report\n\u001b[0;32m      8\u001b[0m \u001b[38;5;28;01mfrom\u001b[39;00m \u001b[38;5;21;01msklearn\u001b[39;00m\u001b[38;5;21;01m.\u001b[39;00m\u001b[38;5;21;01mmetrics\u001b[39;00m \u001b[38;5;28;01mimport\u001b[39;00m mean_squared_error\n\u001b[0;32m     10\u001b[0m Indication \u001b[38;5;241m=\u001b[39m \u001b[38;5;124m'\u001b[39m\u001b[38;5;124m4\u001b[39m\u001b[38;5;124m'\u001b[39m\n",
      "\u001b[1;31mImportError\u001b[0m: cannot import name 'plot_confusion_matrix' from 'sklearn.metrics' (C:\\Users\\u249391\\AppData\\Local\\anaconda3\\lib\\site-packages\\sklearn\\metrics\\__init__.py)"
     ]
    }
   ],
   "source": [
    "# Select specific age range and indication for treatment from the whole dataset ('4' & '50-59')\n",
    "\n",
    "from sklearn.svm import SVR, SVC\n",
    "from sklearn.linear_model import Lasso \n",
    "from sklearn.linear_model import LogisticRegression\n",
    "from sklearn.preprocessing import StandardScaler\n",
    "from sklearn.metrics import plot_confusion_matrix, accuracy_score, classification_report\n",
    "from sklearn.metrics import mean_squared_error\n",
    "\n",
    "Indication = '4'\n",
    "age = '50 - 59'\n",
    "\n",
    "delete_rows = []\n",
    "df = pd.read_csv(df_address)\n",
    "\n",
    "for index, row in df.iterrows():\n",
    "  if (age not in str(df['Age'][index])) or (Indication not in str(df['Indication for Warfarin Treatment'][index])):\n",
    "    delete_rows.append(index)\n",
    "\n",
    "df.drop(delete_rows, inplace=True)\n",
    "# print(df.head())\n",
    "print('Number of patients with Indication '+Indication+' & between 50 to 59 years old is: ',df.shape[0])\n",
    "# df = df[['INR on Reported Therapeutic Dose of Warfarin','Therapeutic Dose of Warfarin']].dropna(axis=0)"
   ]
  },
  {
   "cell_type": "code",
   "execution_count": 4,
   "metadata": {
    "colab": {
     "base_uri": "https://localhost:8080/"
    },
    "id": "3oL8O9GJ0IEC",
    "outputId": "39643f27-759a-43f6-e320-9324e9d14505"
   },
   "outputs": [
    {
     "ename": "NameError",
     "evalue": "name 'df' is not defined",
     "output_type": "error",
     "traceback": [
      "\u001b[1;31m---------------------------------------------------------------------------\u001b[0m",
      "\u001b[1;31mNameError\u001b[0m                                 Traceback (most recent call last)",
      "Cell \u001b[1;32mIn[4], line 5\u001b[0m\n\u001b[0;32m      3\u001b[0m \u001b[38;5;28;01mimport\u001b[39;00m \u001b[38;5;21;01mnumpy\u001b[39;00m \u001b[38;5;28;01mas\u001b[39;00m \u001b[38;5;21;01mnp\u001b[39;00m\n\u001b[0;32m      4\u001b[0m \u001b[38;5;66;03m# df = pd.read_csv(df_address)\u001b[39;00m\n\u001b[1;32m----> 5\u001b[0m y \u001b[38;5;241m=\u001b[39m \u001b[43mdf\u001b[49m[\u001b[38;5;124m'\u001b[39m\u001b[38;5;124mTherapeutic Dose of Warfarin\u001b[39m\u001b[38;5;124m'\u001b[39m]\n\u001b[0;32m      6\u001b[0m df_race \u001b[38;5;241m=\u001b[39m df[\u001b[38;5;124m'\u001b[39m\u001b[38;5;124mRace (Reported)\u001b[39m\u001b[38;5;124m'\u001b[39m]\n\u001b[0;32m      7\u001b[0m df_targetINR \u001b[38;5;241m=\u001b[39m df[\u001b[38;5;124m'\u001b[39m\u001b[38;5;124mTarget INR\u001b[39m\u001b[38;5;124m'\u001b[39m]\n",
      "\u001b[1;31mNameError\u001b[0m: name 'df' is not defined"
     ]
    }
   ],
   "source": [
    "### Create dataset with specific comorbidities and conditions as columns.\n",
    "\n",
    "import numpy as np\n",
    "# df = pd.read_csv(df_address)\n",
    "y = df['Therapeutic Dose of Warfarin']\n",
    "df_race = df['Race (Reported)']\n",
    "df_targetINR = df['Target INR']\n",
    "df_height = df['Height (cm)']\n",
    "df_weight = df['Weight (kg)']\n",
    "df_gender = df['Gender']\n",
    "df_smoking = df['Current Smoker']\n",
    "\n",
    "l_diabetes,l_cancer,l_hypertension = [],[],[]\n",
    "l_lovastatin, l_amiodarone = [], []\n",
    "# for row_M in range(df['Comorbidities'].shape[0]):\n",
    "for index, row in df.iterrows():\n",
    "  if 'No Diabetes' in str(df['Comorbidities'][index]):\n",
    "    l_diabetes.append(0)\n",
    "  elif str(df['Comorbidities'][index]) == 'nan':\n",
    "    l_diabetes.append(np.nan)\n",
    "  elif 'Diabetes' in str(df['Comorbidities'][index]):\n",
    "    l_diabetes.append(1)\n",
    "\n",
    "  if 'No Cancer' in str(df['Comorbidities'][index]):\n",
    "    l_cancer.append(0)\n",
    "  elif str(df['Comorbidities'][index]) == 'nan':\n",
    "    l_cancer.append(np.nan)\n",
    "  elif 'Cancer' in str(df['Comorbidities'][index]):\n",
    "    l_cancer.append(1)\n",
    "\n",
    "  if 'No Hypertension' in str(df['Comorbidities'][index]):\n",
    "    l_hypertension.append(0)\n",
    "  elif str(df['Comorbidities'][index]) == 'nan':\n",
    "    l_hypertension.append(np.nan)\n",
    "  elif 'Hypertension' in str(df['Comorbidities'][index]):\n",
    "    l_hypertension.append(1)\n",
    "\n",
    "  if 'lovastatin' in str(df['Medications'][index]):\n",
    "    l_lovastatin.append(1)\n",
    "  elif str(df['Medications'][index]) == 'nan':\n",
    "    l_lovastatin.append(np.nan)\n",
    "  else:\n",
    "    l_lovastatin.append(0)\n",
    "  if 'Amiodarone' in str(df['Medications'][index]):\n",
    "    l_amiodarone.append(1)\n",
    "  elif str(df['Medications'][index]) == 'nan':\n",
    "    l_amiodarone.append(np.nan)\n",
    "  else:\n",
    "    l_amiodarone.append(0)\n",
    "d_diabetes = {'Diabetes': l_diabetes}\n",
    "df_diabetes = pd.DataFrame(data=d_diabetes)\n",
    "d_cancer = {'Cancer': l_cancer}\n",
    "df_cancer = pd.DataFrame(data=d_cancer)\n",
    "d_hypertension = {'Hypertention': l_hypertension}\n",
    "df_hypertension = pd.DataFrame(data=d_hypertension)\n",
    "\n",
    "d_lovastatin = {'Lovastatin': l_lovastatin}\n",
    "df_lovastatin = pd.DataFrame(data=d_lovastatin)\n",
    "d_amiodarone = {'Amiodarone': l_amiodarone}\n",
    "df_amiodarone = pd.DataFrame(data=d_amiodarone)\n",
    "\n",
    "# df_age = df['Age']\n",
    "# df_dvt = '1'\n",
    "# df_pe = '2'\n",
    "# df_VR\n",
    "# df_enzyme\n",
    "df_used = pd.concat([y,df_race,df_targetINR,df_height,df_weight,df_gender,df_smoking,df_diabetes,df_cancer,df_hypertension,df_lovastatin,df_amiodarone], axis=1)\n",
    "print(df_used.head())\n",
    "df_used.to_csv('df_used.csv')"
   ]
  },
  {
   "cell_type": "code",
   "execution_count": null,
   "metadata": {
    "id": "4JxFaKtOofk5"
   },
   "outputs": [],
   "source": [
    "x = df_used.drop(['Therapeutic Dose of Warfarin'],axis=1)"
   ]
  },
  {
   "cell_type": "code",
   "execution_count": null,
   "metadata": {
    "colab": {
     "base_uri": "https://localhost:8080/"
    },
    "id": "44Lp6ggyoOhq",
    "outputId": "2ac87868-560c-41cc-ebbb-c715b12a2c37"
   },
   "outputs": [],
   "source": [
    "### Guess Nans and replace headings\n",
    "\n",
    "from sklearn.model_selection import train_test_split\n",
    "df_used = df_used.rename({'Therapeutic Dose of Warfarin':'Dose', 'Race (Reported)': 'Race', 'Height (cm)': 'Height', 'Weight (kg)': 'Weight', 'Target INR': 'INR', 'Current Smoker': 'Smoker'}, axis=1)\n",
    "# print(df_used.head())\n",
    "df_used.fillna({'Race':\"unknown\",'Gender':\"unknown\",'Smoker':0,'Diabetes':0,'Cancer':0,'Hypertention':0,'Lovastatin':0,'Amiodarone':0}, inplace=True)\n",
    "df_used.fillna({'Dose':df_used['Dose'].mean(),'INR':df_used['INR'].mean(),'Weight':df_used['Weight'].mean(),'Height':df_used['Height'].mean()}, inplace=True)\n",
    "df_dummy = pd.get_dummies(df_used)\n",
    "print(df_dummy.head())\n",
    "# df_used.Race = pd.get_dummies(df_used.Race, prefix='Race')\n",
    "# df_used.Gender = pd.get_dummies(df_used.Gender, prefix='Gender')\n",
    "# df_used.Smoker = pd.get_dummies(df_used.Smoker, prefix='Smoker')\n",
    "# df_used.Diabetes = pd.get_dummies(df_used.Diabetes, prefix='Diabetes')\n",
    "# df_used.Cancer = pd.get_dummies(df_used.Cancer, prefix='Cancer')\n",
    "# df_used.Hypertention = pd.get_dummies(df_used.Hypertention, prefix='Hypertention')\n",
    "# df_used.Lovastatin = pd.get_dummies(df_used.Lovastatin, prefix='Lovastatin')\n",
    "# df_used.Amiodarone = pd.get_dummies(df_used.Amiodarone, prefix='Amiodarone')\n",
    "x = df_dummy.drop(['Dose'],axis=1)   # 'Therapeutic Dose of Warfarin'\n",
    "y = df_dummy['Dose']\n",
    "# print(x.head())\n",
    "x_train, x_test, y_train, y_test = train_test_split(x, y, test_size=0.2, random_state=42)"
   ]
  },
  {
   "cell_type": "code",
   "execution_count": null,
   "metadata": {
    "colab": {
     "base_uri": "https://localhost:8080/",
     "height": 143
    },
    "id": "GTC5dtMDwMuw",
    "outputId": "17942906-ccd6-40f9-aefc-9d4a8f5dfa80"
   },
   "outputs": [],
   "source": [
    "x.dropna(axis=0, how='any',subset=list(x.columns), inplace=True)\n",
    "x"
   ]
  },
  {
   "cell_type": "code",
   "execution_count": null,
   "metadata": {
    "id": "QaMV1c_ekxcO"
   },
   "outputs": [],
   "source": [
    "from sklearn.preprocessing import LabelEncoder, OneHotEncoder, OrdinalEncoder\n",
    "# from sklearn import utils\n",
    "# utils.multiclass.type_of_target(x_train_encoded)\n",
    "\n",
    "# le = OneHotEncoder()\n",
    "# x_train = np.array(le.fit_transform(x_train))\n",
    "# x_test = np.array(le.fit_transform(x_test))\n",
    "# one_hot_x_train = tf.keras.utils.to_categorical(x_train)\n",
    "# one_hot_x_test = tf.keras.utils.to_categorical(x_test)\n",
    "\n",
    "lab_enc = OrdinalEncoder()\n",
    "x_train_encoded = lab_enc.fit_transform(x_train)\n",
    "y_train_encoded = lab_enc.fit_transform(np.array(y_train).reshape(-1,1))\n",
    "x_test_encoded = lab_enc.fit_transform(x_test)\n",
    "y_test_encoded = lab_enc.fit_transform(np.array(y_test).reshape(-1,1))"
   ]
  },
  {
   "cell_type": "code",
   "execution_count": null,
   "metadata": {
    "colab": {
     "base_uri": "https://localhost:8080/",
     "height": 481
    },
    "id": "gHWOA3gtWfqf",
    "outputId": "b813e829-0f14-4cab-f145-0c001254a2d2"
   },
   "outputs": [],
   "source": [
    "import pandas as pd\n",
    "import seaborn as sns\n",
    "import matplotlib.pyplot as plt\n",
    "\n",
    "# plt.figure(figsize=(200,200))\n",
    "CorrMatrix = abs(df_dummy.corr())\n",
    "\n",
    "plt.figure(figsize=(16,8))\n",
    "sns_plot = sns.heatmap(CorrMatrix, annot=True)\n",
    "plt.subplots_adjust(left=0.2, bottom=0.3, right=1, top=0.9)\n",
    "fig = sns_plot.get_figure()\n",
    "# plt.savefig(\"Data_Correlation_Heatmap.png\")\n",
    "# print('Data_Correlation_Heatmap.png created!')\n",
    "plt.show()"
   ]
  },
  {
   "cell_type": "code",
   "execution_count": null,
   "metadata": {
    "colab": {
     "base_uri": "https://localhost:8080/"
    },
    "id": "V_YkGbgMgpCw",
    "outputId": "1f5dc243-7a9d-4fa9-b0c1-d0f56ea056f8"
   },
   "outputs": [],
   "source": [
    "False in list(df_dummy['Lovastatin'] == 0.0)"
   ]
  },
  {
   "cell_type": "markdown",
   "metadata": {
    "id": "klHg5a2wpbw8"
   },
   "source": [
    "**DT for feature importance**"
   ]
  },
  {
   "cell_type": "code",
   "execution_count": null,
   "metadata": {
    "colab": {
     "base_uri": "https://localhost:8080/"
    },
    "id": "mq19nTepGPT6",
    "outputId": "a4196cda-8c12-4eb7-bff3-0b5785ef70c6"
   },
   "outputs": [],
   "source": [
    "import sys\n",
    "\n",
    "if 'google.colab' in sys.modules:\n",
    "  !pip install -q dtreeviz"
   ]
  },
  {
   "cell_type": "code",
   "execution_count": null,
   "metadata": {
    "colab": {
     "base_uri": "https://localhost:8080/"
    },
    "id": "BWedV5zApkDD",
    "outputId": "f530382c-9da1-4520-a6bb-ae7eefd86160"
   },
   "outputs": [],
   "source": [
    "import sklearn\n",
    "import dtreeviz\n",
    "\n",
    "# clf = sklearn.tree.DecisionTreeClassifier(criterion='gini', min_samples_split=10, random_state=None)\n",
    "clf_dt = sklearn.tree.DecisionTreeRegressor(criterion='squared_error', min_samples_split=10, random_state=None)\n",
    "clf_dt.fit(x_train,y_train)\n",
    "\n",
    "print(\"R-squared on train data:\", clf_dt.score(x_train, y_train))\n",
    "print(\"MSE on train data:\", mean_squared_error(y_train, clf_dt.predict(x_train)))\n",
    "print('*'*30)\n",
    "print(\"R-squared on test data:\", clf_dt.score(x_test, y_test))\n",
    "print(\"MSE on test data:\", mean_squared_error(y_test, clf_dt.predict(x_test)))\n",
    "print('*'*30)\n",
    "# acc_dt = accuracy_score(y_test, y_pred)\n",
    "# print(acc_dt)\n",
    "# rep_dt = classification_report(y_test, y_pred, output_dict=True)\n",
    "\n",
    "fig = plt.figure(figsize=(25, 20),dpi=1000)\n",
    "_ = sklearn.tree.plot_tree(clf_dt, filled=True, feature_names=list(x.head()))\n",
    "fig.savefig(r\"DT_plt.png\")\n",
    "plt.close()\n",
    "\n",
    "viz = dtreeviz.trees.dtreeviz(clf_dt, x_train, y_train, target_name=\"target\", feature_names=list(x.head()))\n",
    "viz.save(r\"DT_plt.svg\")\n",
    "plt.close()"
   ]
  },
  {
   "cell_type": "markdown",
   "metadata": {
    "id": "OdH5kDo2N6Fk"
   },
   "source": [
    "**Testing different cut-offs on Doses**"
   ]
  },
  {
   "cell_type": "code",
   "execution_count": null,
   "metadata": {
    "colab": {
     "base_uri": "https://localhost:8080/",
     "height": 731
    },
    "id": "WE5qFzHUN6rb",
    "outputId": "6e581dfb-44f9-4db6-f574-d645121faa11"
   },
   "outputs": [],
   "source": [
    "import sklearn\n",
    "from sklearn.tree import DecisionTreeRegressor\n",
    "import matplotlib.pyplot as plt\n",
    "\n",
    "x_cutoffplot = list(range(10,70,10))\n",
    "score_train_cutoffplot_H, score_test_cutoffplot_H, score_train_cutoffplot_L, score_test_cutoffplot_L = [], [], [], []\n",
    "clf_dt = DecisionTreeRegressor(criterion='squared_error', min_samples_split=10, random_state=None)\n",
    "\n",
    "for cutoff in range(10,70,10):\n",
    "  print('Cutoff=',cutoff)\n",
    "  df_cutoff_H = df_dummy[df_dummy['Dose']>cutoff]\n",
    "  df_cutoff_L = df_dummy[df_dummy['Dose']<cutoff]\n",
    "  x_H = df_cutoff_H.drop(['Dose'],axis=1)   # 'Therapeutic Dose of Warfarin'\n",
    "  y_H = df_cutoff_H['Dose']\n",
    "  x_L = df_cutoff_L.drop(['Dose'],axis=1)   # 'Therapeutic Dose of Warfarin'\n",
    "  y_L = df_cutoff_L['Dose']\n",
    "  x_train_H, x_test_H, y_train_H, y_test_H = train_test_split(x_H, y_H, test_size=0.2, random_state=42)\n",
    "  x_train_L, x_test_L, y_train_L, y_test_L = train_test_split(x_L, y_L, test_size=0.2, random_state=42)\n",
    "  clf_dt.fit(x_train_H,y_train_H)\n",
    "  score_train_cutoffplot_H.append(clf_dt.score(x_train_H, y_train_H))\n",
    "  score_test_cutoffplot_H.append(clf_dt.score(x_test_H, y_test_H))\n",
    "  clf_dt.fit(x_train_L,y_train_L)\n",
    "  score_train_cutoffplot_L.append(clf_dt.score(x_train_L, y_train_L))\n",
    "  score_test_cutoffplot_L.append(clf_dt.score(x_test_L, y_test_L))  \n",
    "fig, axs = plt.subplots(2,2, figsize=(20, 10))\n",
    "axs[0,0].plot(x_cutoffplot, score_train_cutoffplot_H)\n",
    "axs[0,0].set_xlabel('cutoff', fontsize=12)\n",
    "axs[0,0].set_ylabel('score_train_cutoffplot_H', fontsize=12)\n",
    "axs[0,1].plot(x_cutoffplot, score_test_cutoffplot_H)\n",
    "axs[0,1].set_xlabel('cutoff', fontsize=12)\n",
    "axs[0,1].set_ylabel('score_test_cutoffplot_H', fontsize=12)\n",
    "axs[1,0].plot(x_cutoffplot, score_train_cutoffplot_L)\n",
    "axs[1,0].set_xlabel('cutoff', fontsize=12)\n",
    "axs[1,0].set_ylabel('score_train_cutoffplot_L', fontsize=12)\n",
    "axs[1,1].plot(x_cutoffplot, score_test_cutoffplot_L)\n",
    "axs[1,1].set_xlabel('cutoff', fontsize=12)\n",
    "axs[1,1].set_ylabel('score_test_cutoffplot_L', fontsize=12)"
   ]
  },
  {
   "cell_type": "code",
   "execution_count": null,
   "metadata": {
    "colab": {
     "base_uri": "https://localhost:8080/"
    },
    "id": "lAuNtvx86aA2",
    "outputId": "fd8fa22b-b276-4204-9c48-103d3862ec6b"
   },
   "outputs": [],
   "source": [
    "y.sort_values()"
   ]
  },
  {
   "cell_type": "markdown",
   "metadata": {
    "id": "EjqGykgrlxxe"
   },
   "source": [
    "**SVR**"
   ]
  },
  {
   "cell_type": "code",
   "execution_count": null,
   "metadata": {
    "colab": {
     "base_uri": "https://localhost:8080/"
    },
    "id": "xYUAt5pbpVNv",
    "outputId": "f0154ca1-871f-4c2a-f936-74d3de92a140"
   },
   "outputs": [],
   "source": [
    "clf_svr = SVR(kernel='rbf', degree=3, gamma='scale', coef0=0.0, tol=0.001, C=1.0, epsilon=0.1, shrinking=True, cache_size=200, verbose=False, max_iter=-1)\n",
    "clf_svr.fit(x_train,y_train)\n",
    "\n",
    "y_pred_svr = clf_svr.predict(x_test)\n",
    "score_svr = clf_svr.score(x_test, y_test)\n",
    "print(\"R-squared:\", score_svr)\n",
    "print(\"MSE:\", mean_squared_error(y_test, y_pred_svr))"
   ]
  },
  {
   "cell_type": "code",
   "execution_count": null,
   "metadata": {
    "id": "-KoPDscaom-k"
   },
   "outputs": [],
   "source": [
    "plt.scatter(x_train, y_train, color = 'magenta')\n",
    "plt.plot(x_train, clf_svr.predict(x_train), color = 'green')\n",
    "plt.title('Support Vector Regression Model')\n",
    "plt.xlabel('X')\n",
    "plt.ylabel('Y')\n",
    "plt.show()"
   ]
  },
  {
   "cell_type": "markdown",
   "metadata": {
    "id": "vZXUO7mpl1-t"
   },
   "source": [
    "**Lasso**"
   ]
  },
  {
   "cell_type": "code",
   "execution_count": null,
   "metadata": {
    "colab": {
     "base_uri": "https://localhost:8080/"
    },
    "id": "SpzwoWvQV7Z3",
    "outputId": "4776581b-bb89-48fd-cb50-f3f829f9e13d"
   },
   "outputs": [],
   "source": [
    "clf_lasso = Lasso(alpha=1.0, fit_intercept=True, normalize='deprecated', precompute=False, copy_X=True, max_iter=1000, tol=0.0001, warm_start=False, positive=False, random_state=None, selection='cyclic')\n",
    "clf_lasso.fit(x_train,y_train)\n",
    "\n",
    "y_pred_Lasso = clf_lasso.predict(x_test)\n",
    "score_Lasso = clf_lasso.score(x_test, y_test)\n",
    "print(\"R-squared:\", score_Lasso)\n",
    "print(\"MSE:\", mean_squared_error(y_test, y_pred_Lasso))"
   ]
  },
  {
   "cell_type": "code",
   "execution_count": null,
   "metadata": {
    "colab": {
     "base_uri": "https://localhost:8080/"
    },
    "id": "v9MR_y-1l389",
    "outputId": "91815306-f9b2-412c-d1d6-417ada054e88"
   },
   "outputs": [],
   "source": [
    "clf_lasso = Lasso(alpha=1.0, fit_intercept=True, normalize='deprecated', precompute=False, copy_X=True, max_iter=1000, tol=0.0001, warm_start=False, positive=False, random_state=None, selection='cyclic')\n",
    "clf_lasso.fit(x_train,y_train)\n",
    "\n",
    "y_pred_Lasso = clf_lasso.predict(x_test)\n",
    "score_Lasso = clf_lasso.score(x_test, y_test)\n",
    "print(\"R-squared:\", score_Lasso)\n",
    "print(\"MSE:\", mean_squared_error(y_test, y_pred_Lasso))"
   ]
  },
  {
   "cell_type": "code",
   "execution_count": null,
   "metadata": {
    "colab": {
     "base_uri": "https://localhost:8080/",
     "height": 295
    },
    "id": "3TUeQMCvTil7",
    "outputId": "2e93b940-fc42-4855-b3f3-99916a19e279"
   },
   "outputs": [],
   "source": [
    "plt.scatter(x_train, y_train, color = 'magenta')\n",
    "plt.plot(x_train, clf_lasso.predict(x_train), color = 'green')\n",
    "plt.title('Lasso Model')\n",
    "plt.xlabel('X')\n",
    "plt.ylabel('Y')\n",
    "plt.show()"
   ]
  },
  {
   "cell_type": "markdown",
   "metadata": {
    "id": "TBBbPO1vvxiS"
   },
   "source": [
    "**NN**"
   ]
  },
  {
   "cell_type": "code",
   "execution_count": null,
   "metadata": {
    "colab": {
     "base_uri": "https://localhost:8080/"
    },
    "id": "maTb9UUOehCW",
    "outputId": "d8e141a6-ac0e-4033-c2a1-1f62b8e0344c"
   },
   "outputs": [],
   "source": [
    "from keras.losses import MeanSquaredLogarithmicError\n",
    "from keras.optimizers import Adam, SGD, RMSprop\n",
    "from sklearn.utils import class_weight\n",
    "import numpy as np\n",
    "from sklearn import metrics\n",
    "from sklearn.neural_network import MLPRegressor\n",
    "\n",
    "# num_classes = \n",
    "model = tf.keras.Sequential()\n",
    "# model.add(tf.keras.layers.Dense(units=16, activation=\"relu\", use_bias=True))\n",
    "# model.add(tf.keras.layers.Dense(units=32, activation=\"relu\", use_bias=True))\n",
    "# model.add(tf.keras.layers.Dense(units=64, activation=\"relu\", use_bias=True))\n",
    "# model.add(tf.keras.layers.Dense(units=32, activation=\"relu\", use_bias=True))\n",
    "model.add(tf.keras.layers.Dense(units=16, activation=\"relu\", use_bias=True))\n",
    "model.add(tf.keras.layers.Dense(units=8, activation=\"relu\", use_bias=True))\n",
    "model.add(tf.keras.layers.Dense(units=1, activation=\"exponential\", use_bias=True))     #  selu elu exponential softsign LeakyReLU\n",
    "\n",
    "msle = 'mean_squared_error'   # MeanSquaredLogarithmicError()\n",
    "model.compile(loss=msle, optimizer=Adam(learning_rate=0.01), metrics=[msle])     # Adam(learning_rate=0.01) SGD  RMSprop\n",
    "\n",
    "# # class_weights = class_weight.compute_class_weight(class_weight = \"balanced\",classes = np.unique(np.array(y_train)),y = np.array(y_train))\n",
    "# # class_weights = dict(zip(np.unique(np.array(y_train)), class_weights))\n",
    "# # class_weights = dict(enumerate(np.unique(np.array(y_train))))\n",
    "history = model.fit(x_train, y_train, epochs=50, batch_size=128,validation_split=0.2)\n",
    "\n",
    "print(model.evaluate(x_test,y_test))\n",
    "# print(model.predict(x_test))\n",
    "\n",
    "regr = MLPRegressor(hidden_layer_sizes=(128,64,32,16,8), activation='relu', random_state=1, max_iter=500).fit(x_train, y_train)\n",
    "regr.predict(x_test[:2])\n",
    "score = regr.score(x_test, y_test)\n",
    "print('Score',score)\n",
    "\n",
    "# acc = history.history['acc']\n",
    "# val_acc = history.history['val_acc']\n",
    "# loss = history.history['loss']\n",
    "# val_loss = history.history['val_loss']\n",
    "\n",
    "# epochs = range(len(acc))\n",
    "\n",
    "# plt.plot(epochs, acc, 'bo', label='Training acc')\n",
    "# plt.plot(epochs, val_acc, 'b', label='Validation acc')\n",
    "# plt.xlabel('Epoch number')\n",
    "# plt.ylabel('Accuracy')\n",
    "# plt.title('Training and validation accuracy')\n",
    "# plt.savefig('Training and validation accuracy')\n",
    "# # plt.legend()\n",
    "\n",
    "# plt.figure()\n",
    "\n",
    "# plt.plot(epochs, loss, 'bo', label='Training loss')\n",
    "# plt.plot(epochs, val_loss, 'b', label='Validation loss')\n",
    "# plt.xlabel('Epoch number')\n",
    "# plt.ylabel('Loss')\n",
    "# plt.title('Training and validation loss')\n",
    "# plt.legend()\n",
    "# plt.savefig('Training and validation loss')\n",
    "# plt.show()"
   ]
  },
  {
   "cell_type": "markdown",
   "metadata": {
    "id": "x4y0-8qQXf4G"
   },
   "source": [
    "**SVC**"
   ]
  },
  {
   "cell_type": "code",
   "execution_count": null,
   "metadata": {
    "colab": {
     "base_uri": "https://localhost:8080/"
    },
    "id": "5KuKmekfurbv",
    "outputId": "49e459cc-47a9-4e71-a5c5-f23cde64929c"
   },
   "outputs": [],
   "source": [
    "clf_svc = SVC(C=1, kernel='poly', degree=6, gamma='scale', coef0=1,\\\n",
    "                            shrinking=True, probability=True, tol=1e-1, cache_size=200, class_weight=None, verbose=False,\\\n",
    "                            max_iter=-1, decision_function_shape='ovr', break_ties='False', random_state=42)\n",
    "clf_svc.fit(x_train.astype('int'), y_train.astype('int'))\n",
    "y_pred_svc = clf_svc.predict(x_test.astype('int'))\n",
    "acc_svc = accuracy_score(y_test.astype('int'), y_pred_svc)\n",
    "res_svc = classification_report(y_test.astype('int'), y_pred_svc, output_dict=True)\n",
    "acc_svc"
   ]
  },
  {
   "cell_type": "code",
   "execution_count": null,
   "metadata": {
    "colab": {
     "base_uri": "https://localhost:8080/"
    },
    "id": "OEv6xzQBVjLM",
    "outputId": "12c034ac-ba79-4143-8eae-fa18889e5335"
   },
   "outputs": [],
   "source": [
    "clf_svc = SVC(C=1, kernel='poly', degree=6, gamma='scale', coef0=1,\\\n",
    "                            shrinking=True, probability=True, tol=1e-1, cache_size=200, class_weight=None, verbose=False,\\\n",
    "                            max_iter=-1, decision_function_shape='ovr', break_ties='False', random_state=42)\n",
    "clf_svc.fit(x_train_encoded, y_train_encoded.ravel())\n",
    "y_pred_svc = clf_svc.predict(x_test_encoded)\n",
    "acc_svc = accuracy_score(y_test_encoded.ravel(), y_pred_svc)\n",
    "# res_svc = classification_report(y_test_encoded, y_pred_svc, output_dict=True)\n",
    "acc_svc"
   ]
  },
  {
   "cell_type": "markdown",
   "metadata": {
    "id": "DW6YmNmwXi_b"
   },
   "source": [
    "**Logistic Regression**"
   ]
  },
  {
   "cell_type": "code",
   "execution_count": null,
   "metadata": {
    "colab": {
     "base_uri": "https://localhost:8080/"
    },
    "id": "5jHHqGrUv60G",
    "outputId": "90582f20-69ff-40aa-8307-c49671332048"
   },
   "outputs": [],
   "source": [
    "clf_lr = LogisticRegression(penalty='none', solver='lbfgs', dual=False, tol=1e-2, C=1, fit_intercept=True,\\\n",
    "                                        max_iter=150, class_weight=None, random_state=42, multi_class='auto', warm_start=False, n_jobs=-1)\n",
    "clf_lr.fit(x_train.astype('int'), y_train.astype('int'))\n",
    "y_pred_lr = clf_lr.predict(x_test.astype('int'))\n",
    "acc_lr = accuracy_score(y_test.astype('int'), y_pred_lr)\n",
    "# res_lr = classification_report(y_test.astype('int'), y_pred_lr, output_dict=True)\n",
    "acc_lr"
   ]
  },
  {
   "cell_type": "code",
   "execution_count": null,
   "metadata": {
    "colab": {
     "base_uri": "https://localhost:8080/"
    },
    "id": "2-H7xBadXiQy",
    "outputId": "3f06bda2-16df-4c13-90f9-e75adb0f727a"
   },
   "outputs": [],
   "source": [
    "clf_lr = LogisticRegression(penalty='none', solver='lbfgs', dual=False, tol=1e-2, C=1, fit_intercept=True,\\\n",
    "                                        max_iter=150, class_weight=None, random_state=42, multi_class='auto', warm_start=False, n_jobs=-1)\n",
    "clf_lr.fit(x_train_encoded, y_train_encoded.ravel())\n",
    "y_pred_lr = clf_lr.predict(x_test_encoded)\n",
    "acc_lr = accuracy_score(y_test_encoded.ravel(), y_pred_lr)\n",
    "# res_lr = classification_report(y_test_encoded, y_pred_lr, output_dict=True)\n",
    "acc_lr"
   ]
  },
  {
   "cell_type": "markdown",
   "metadata": {
    "id": "ff2yuImsWD2Q"
   },
   "source": [
    "**Investigating Effect of Indication of Treatment and Other Drugs**"
   ]
  },
  {
   "cell_type": "code",
   "execution_count": null,
   "metadata": {
    "colab": {
     "base_uri": "https://localhost:8080/"
    },
    "id": "vXSQcvVDKUJo",
    "outputId": "b6df3f2b-3bf7-42b9-dd3d-d0b344f04da2"
   },
   "outputs": [],
   "source": [
    "# Select specific age range and indication for treatment from the whole dataset ('4' & '50-59')\n",
    "\n",
    "from sklearn.svm import SVR, SVC\n",
    "from sklearn.linear_model import Lasso \n",
    "from sklearn.linear_model import LogisticRegression\n",
    "from sklearn.preprocessing import StandardScaler\n",
    "from sklearn.metrics import plot_confusion_matrix, accuracy_score, classification_report\n",
    "from sklearn.metrics import mean_squared_error\n",
    "\n",
    "# Indication = '4'\n",
    "age = '50 - 59'\n",
    "\n",
    "delete_rows = []\n",
    "df = pd.read_csv(df_address)\n",
    "\n",
    "for index, row in df.iterrows():\n",
    "  if (age not in str(df['Age'][index])): ### or (Indication not in str(df['Indication for Warfarin Treatment'][index]))\n",
    "    delete_rows.append(index)\n",
    "\n",
    "df.drop(delete_rows, inplace=True)\n",
    "# print(df.head())\n",
    "print('between 50 to 59 years old is: ',df.shape[0]) ### Number of patients with Indication '+Indication+' & \n",
    "# df = df[['INR on Reported Therapeutic Dose of Warfarin','Therapeutic Dose of Warfarin']].dropna(axis=0)"
   ]
  },
  {
   "cell_type": "code",
   "execution_count": null,
   "metadata": {
    "colab": {
     "base_uri": "https://localhost:8080/",
     "height": 543
    },
    "id": "vk1PGm2lKmCe",
    "outputId": "cc5498f2-844e-4821-851b-3ecfbefb4810"
   },
   "outputs": [],
   "source": [
    "df.head()"
   ]
  },
  {
   "cell_type": "code",
   "execution_count": null,
   "metadata": {
    "colab": {
     "base_uri": "https://localhost:8080/",
     "height": 312
    },
    "id": "7p0JVnM0Nuts",
    "outputId": "fbbb9308-220b-4e64-9544-369c8c3f72da"
   },
   "outputs": [],
   "source": [
    "l_x , l_y = [] , []\n",
    "for index, row in df.iterrows():\n",
    "  # if '1 or 2' in str(df['Indication for Warfarin Treatment'][index]):\n",
    "  #   l_x.append(1)\n",
    "  #   l_y.append(float(df['Therapeutic Dose of Warfarin'][index]))\n",
    "  if '1' in str(df['Indication for Warfarin Treatment'][index]):\n",
    "    l_x.append(1)\n",
    "    l_y.append(float(df['Therapeutic Dose of Warfarin'][index]))\n",
    "  if '2' in str(df['Indication for Warfarin Treatment'][index]):\n",
    "    l_x.append(2)\n",
    "    l_y.append(float(df['Therapeutic Dose of Warfarin'][index]))\n",
    "  if '3' in str(df['Indication for Warfarin Treatment'][index]):\n",
    "    l_x.append(3)\n",
    "    l_y.append(float(df['Therapeutic Dose of Warfarin'][index]))\n",
    "  if '4' in str(df['Indication for Warfarin Treatment'][index]):\n",
    "    l_x.append(4)\n",
    "    l_y.append(float(df['Therapeutic Dose of Warfarin'][index]))\n",
    "  if '5' in str(df['Indication for Warfarin Treatment'][index]):\n",
    "    l_x.append(5)\n",
    "    l_y.append(float(df['Therapeutic Dose of Warfarin'][index]))\n",
    "  if '6' in str(df['Indication for Warfarin Treatment'][index]):\n",
    "    l_x.append(6)\n",
    "    l_y.append(float(df['Therapeutic Dose of Warfarin'][index]))\n",
    "  if '7' in str(df['Indication for Warfarin Treatment'][index]):\n",
    "    l_x.append(7)\n",
    "    l_y.append(float(df['Therapeutic Dose of Warfarin'][index]))\n",
    "  if '8' in str(df['Indication for Warfarin Treatment'][index]):\n",
    "    l_x.append(8)\n",
    "    l_y.append(float(df['Therapeutic Dose of Warfarin'][index]))\n",
    "\n",
    "x = l_x\n",
    "y = l_y\n",
    "plt.scatter(x, y, color = 'magenta')\n",
    "plt.xlabel('Indication for Warfarin Treatment')\n",
    "plt.ylabel('Therapeutic Dose of Warfarin')\n",
    "plt.title('Patients aged between 50 - 59')\n",
    "plt.xlim(0,9)"
   ]
  },
  {
   "cell_type": "code",
   "execution_count": null,
   "metadata": {
    "colab": {
     "base_uri": "https://localhost:8080/",
     "height": 312
    },
    "id": "nhkrv9aILnI9",
    "outputId": "495bb02f-c229-4210-b227-5b26ff288fec"
   },
   "outputs": [],
   "source": [
    "l_lovastatin = []\n",
    "for index, row in df.iterrows():\n",
    "  if 'lovastatin' in str(df['Medications'][index]):\n",
    "    l_lovastatin.append(1)\n",
    "  elif str(df['Medications'][index]) == 'nan':\n",
    "    l_lovastatin.append(np.nan)\n",
    "  else:\n",
    "    l_lovastatin.append(0)\n",
    "d_lovastatin = {'Lovastatin': l_lovastatin}\n",
    "df_lovastatin = pd.DataFrame(data=d_lovastatin)\n",
    "df_lovastatin.dropna()\n",
    "\n",
    "x = df_lovastatin\n",
    "y = df['Therapeutic Dose of Warfarin']\n",
    "plt.scatter(x, y, color = 'magenta')\n",
    "plt.xlabel('Lovastatin')\n",
    "plt.ylabel('Therapeutic Dose of Warfarin')\n",
    "plt.title('Patients aged between 50 - 59')\n",
    "plt.xlim(-1,2)"
   ]
  },
  {
   "cell_type": "code",
   "execution_count": null,
   "metadata": {
    "colab": {
     "base_uri": "https://localhost:8080/",
     "height": 312
    },
    "id": "6tjPU1oXNSo8",
    "outputId": "9df38244-e0d1-4754-fc2a-f7927e1566ab"
   },
   "outputs": [],
   "source": [
    "l_amiodarone = []\n",
    "for index, row in df.iterrows():\n",
    "  if 'Amiodarone' in str(df['Medications'][index]):\n",
    "    l_amiodarone.append(1)\n",
    "  elif str(df['Medications'][index]) == 'nan':\n",
    "    l_amiodarone.append(np.nan)\n",
    "  else:\n",
    "    l_amiodarone.append(0)\n",
    "d_amiodarone = {'Amiodarone': l_amiodarone}\n",
    "df_amiodarone = pd.DataFrame(data=d_amiodarone)\n",
    "df_amiodarone.dropna()\n",
    "\n",
    "x = df_amiodarone\n",
    "y = df['Therapeutic Dose of Warfarin']\n",
    "plt.scatter(x, y, color = 'magenta')\n",
    "plt.xlabel('Amiodarone')\n",
    "plt.ylabel('Therapeutic Dose of Warfarin')\n",
    "plt.title('Patients aged between 50 - 59')\n",
    "plt.xlim(-1,2)"
   ]
  },
  {
   "cell_type": "code",
   "execution_count": null,
   "metadata": {
    "colab": {
     "base_uri": "https://localhost:8080/",
     "height": 312
    },
    "id": "9d5h-zs3N3x9",
    "outputId": "94bc2625-fea6-4303-b7f3-556bceccf1ae"
   },
   "outputs": [],
   "source": [
    "l_diabetes = []\n",
    "# df_y = pd.DataFrame(df['Therapeutic Dose of Warfarin'])\n",
    "for index, row in df.iterrows():\n",
    "  if 'No Diabetes' in str(df['Comorbidities'][index]):\n",
    "    l_diabetes.append(0)\n",
    "  elif 'Diabetes' in str(df['Comorbidities'][index]):\n",
    "    l_diabetes.append(1)\n",
    "  else:\n",
    "    l_diabetes.append(-1)\n",
    "    # df_y.drop(index,axis=0)\n",
    "d_diabetes = {'Diabetes': l_diabetes}\n",
    "df_diabetes = pd.DataFrame(data=d_diabetes)\n",
    "# df_diabetes.dropna()\n",
    "\n",
    "x = df_diabetes\n",
    "y = df['Therapeutic Dose of Warfarin']\n",
    "plt.scatter(x, y, color = 'magenta')\n",
    "plt.xlabel('Diabetes')\n",
    "plt.ylabel('Therapeutic Dose of Warfarin')\n",
    "plt.title('Patients aged between 50 - 59')\n",
    "plt.xlim(-2,2)"
   ]
  },
  {
   "cell_type": "code",
   "execution_count": null,
   "metadata": {
    "colab": {
     "base_uri": "https://localhost:8080/",
     "height": 312
    },
    "id": "U14zMbFzN374",
    "outputId": "53e8a6ba-f121-44f0-f177-526e4dbdbc27"
   },
   "outputs": [],
   "source": [
    "l_cancer = []\n",
    "for index, row in df.iterrows():\n",
    "  if 'No Cancer' in str(df['Comorbidities'][index]):\n",
    "    l_cancer.append(0)\n",
    "  elif 'Cancer' in str(df['Comorbidities'][index]):\n",
    "    l_cancer.append(1)\n",
    "  else:\n",
    "    l_cancer.append(-1)\n",
    "d_cancer = {'Cancer': l_cancer}\n",
    "df_cancer = pd.DataFrame(data=d_cancer)\n",
    "\n",
    "x = df_cancer\n",
    "y = df['Therapeutic Dose of Warfarin']\n",
    "plt.scatter(x, y, color = 'magenta')\n",
    "plt.xlabel('Cancer')\n",
    "plt.ylabel('Therapeutic Dose of Warfarin')\n",
    "plt.title('Patients aged between 50 - 59')\n",
    "plt.xlim(-2,2)"
   ]
  },
  {
   "cell_type": "code",
   "execution_count": null,
   "metadata": {
    "colab": {
     "base_uri": "https://localhost:8080/",
     "height": 312
    },
    "id": "oabNncu8N4Gw",
    "outputId": "9cbe4618-8cb6-45da-b8dc-ba18abf4e51d"
   },
   "outputs": [],
   "source": [
    "l_hypertension = []\n",
    "for index, row in df.iterrows():\n",
    "  if 'No Hypertension' in str(df['Comorbidities'][index]):\n",
    "    l_hypertension.append(0)\n",
    "  elif 'Hypertension' in str(df['Comorbidities'][index]):\n",
    "    l_hypertension.append(1)\n",
    "  else:\n",
    "    l_hypertension.append(-1)\n",
    "d_hypertension = {'Hypertention': l_hypertension}\n",
    "df_hypertension = pd.DataFrame(data=d_hypertension)\n",
    "\n",
    "x = df_hypertension\n",
    "y = df['Therapeutic Dose of Warfarin']\n",
    "plt.scatter(x, y, color = 'magenta')\n",
    "plt.xlabel('Hypertension')\n",
    "plt.ylabel('Therapeutic Dose of Warfarin')\n",
    "plt.title('Patients aged between 50 - 59')\n",
    "plt.xlim(-2,2)"
   ]
  },
  {
   "cell_type": "code",
   "execution_count": null,
   "metadata": {
    "colab": {
     "base_uri": "https://localhost:8080/",
     "height": 398
    },
    "id": "pq-Yc4CcWe8d",
    "outputId": "37818865-b231-4690-bf0f-8775b551596f"
   },
   "outputs": [],
   "source": [
    "import pandas as pd\n",
    "import seaborn as sns\n",
    "import matplotlib.pyplot as plt\n",
    "\n",
    "df_corr = pd.concat([pd.DataFrame(df['Therapeutic Dose of Warfarin']), df_lovastatin, df_amiodarone, df_diabetes, df_cancer, df_hypertension], axis=1)\n",
    "\n",
    "# plt.figure(figsize=(200,200))\n",
    "CorrMatrix = abs(df_corr.corr())\n",
    "\n",
    "plt.figure(figsize=(16,8))\n",
    "sns_plot = sns.heatmap(CorrMatrix, annot=True)\n",
    "plt.subplots_adjust(left=0.2, bottom=0.3, right=1, top=0.9)\n",
    "fig = sns_plot.get_figure()\n",
    "# plt.savefig(\"Data_Correlation_Heatmap.png\")\n",
    "# print('Data_Correlation_Heatmap.png created!')\n",
    "plt.show()"
   ]
  },
  {
   "cell_type": "code",
   "execution_count": null,
   "metadata": {
    "id": "XFUY5CIeEoxp"
   },
   "outputs": [],
   "source": [
    "import sklearn\n",
    "from sklearn.tree import DecisionTreeRegressor\n",
    "import matplotlib.pyplot as plt\n",
    "from sklearn.svm import SVR, SVC\n",
    "from sklearn.linear_model import Lasso \n",
    "from sklearn.linear_model import LogisticRegression\n",
    "from keras.losses import MeanSquaredLogarithmicError\n",
    "from keras.optimizers import Adam, SGD, RMSprop\n",
    "from sklearn.utils import class_weight\n",
    "import numpy as np\n",
    "from sklearn import metrics\n",
    "from sklearn.neural_network import MLPRegressor\n",
    "\n",
    "score_train_P, score_test_P, score_train_N, score_test_N = [], [], [], []\n",
    "# clf_svc = SVC(C=1, kernel='poly', degree=6, gamma='scale', coef0=1,\\\n",
    "#                             shrinking=True, probability=True, tol=1e-1, cache_size=200, class_weight=None, verbose=False,\\\n",
    "#                             max_iter=-1, decision_function_shape='ovr', break_ties='False', random_state=42)\n",
    "clf_svr = SVR(kernel='rbf', degree=3, gamma='scale', coef0=0.0, tol=0.001, C=1.0, epsilon=0.1, shrinking=True, cache_size=200, verbose=False, max_iter=-1)\n",
    "clf_lr = LogisticRegression(penalty='none', solver='lbfgs', dual=False, tol=1e-2, C=1, fit_intercept=True,\\\n",
    "                                        max_iter=150, class_weight=None, random_state=42, multi_class='auto', warm_start=False, n_jobs=-1)\n",
    "clf_dt = DecisionTreeRegressor(criterion='squared_error', min_samples_split=10, random_state=None)\n",
    "clf_lasso = Lasso(alpha=1.0, fit_intercept=True, normalize='deprecated', precompute=False, copy_X=True, max_iter=1000, tol=0.0001,\\\n",
    "                  warm_start=False, positive=False, random_state=None, selection='cyclic')\n",
    "\n",
    "df_Positive = df_dummy[df_dummy['Dose']==1]\n",
    "df_Negative = df_dummy[df_dummy['Dose']==0]\n",
    "x_P = df_P.drop(['Dose'],axis=1)   # 'Therapeutic Dose of Warfarin'\n",
    "y_P = df_P['Dose']\n",
    "x_N = df_N.drop(['Dose'],axis=1)   # 'Therapeutic Dose of Warfarin'\n",
    "y_N = df_N['Dose']\n",
    "x_train_P, x_test_P, y_train_P, y_test_P = train_test_split(x_P, y_P, test_size=0.2, random_state=42)\n",
    "x_train_N, x_test_N, y_train_N, y_test_N = train_test_split(x_N, y_N, test_size=0.2, random_state=42)\n",
    "clf_dt.fit(x_train_P,y_train_P)\n",
    "# y_pred_lr = clf_lr.predict(x_test_encoded)\n",
    "# acc_lr = accuracy_score(y_test_encoded.ravel(), y_pred_lr)\n",
    "# print(\"R-squared:\", clf_lasso.score(x_test, y_test))\n",
    "# print(\"MSE:\", mean_squared_error(y_test, y_pred_Lasso))\n",
    "score_train_P.append(clf_dt.score(x_train_P, y_train_P))\n",
    "score_test_P.append(clf_dt.score(x_test_P, y_test_P))\n",
    "clf_dt.fit(x_train_N,y_train_N)\n",
    "score_train_N.append(clf_dt.score(x_train_N, y_train_N))\n",
    "score_test_N.append(clf_dt.score(x_test_N, y_test_N))  \n",
    "\n",
    "model = tf.keras.Sequential()\n",
    "model.add(tf.keras.layers.Dense(units=16, activation=\"relu\", use_bias=True))\n",
    "model.add(tf.keras.layers.Dense(units=8, activation=\"relu\", use_bias=True))\n",
    "model.add(tf.keras.layers.Dense(units=1, activation=\"exponential\", use_bias=True))     #  selu elu exponential softsign LeakyReLU\n",
    "msle = 'mean_squared_error'   # MeanSquaredLogarithmicError()\n",
    "model.compile(loss=msle, optimizer=Adam(learning_rate=0.01), metrics=[msle])     # Adam(learning_rate=0.01) SGD  RMSprop\n",
    "history = model.fit(x_train, y_train, epochs=50, batch_size=128,validation_split=0.2)\n",
    "print(model.evaluate(x_test,y_test))\n",
    "# regr = MLPRegressor(hidden_layer_sizes=(128,64,32,16,8), activation='relu', random_state=1, max_iter=500).fit(x_train, y_train)\n",
    "# regr.predict(x_test[:2])\n",
    "# score = regr.score(x_test, y_test)"
   ]
  },
  {
   "cell_type": "code",
   "execution_count": null,
   "metadata": {
    "id": "5uCD58UqLCRT"
   },
   "outputs": [],
   "source": [
    "import pandas as pd\n",
    "import seaborn as sns\n",
    "import matplotlib.pyplot as plt\n",
    "\n",
    "df_corr = pd.concat([pd.DataFrame(df['Therapeutic Dose of Warfarin']), df_lovastatin, df_amiodarone, df_diabetes, df_cancer, df_hypertension], axis=1)\n",
    "\n",
    "# plt.figure(figsize=(200,200))\n",
    "CorrMatrix = abs(df_corr.corr())\n",
    "\n",
    "plt.figure(figsize=(16,8))\n",
    "sns_plot = sns.heatmap(CorrMatrix, annot=True)\n",
    "plt.subplots_adjust(left=0.2, bottom=0.3, right=1, top=0.9)\n",
    "fig = sns_plot.get_figure()\n",
    "# plt.savefig(\"Data_Correlation_Heatmap.png\")\n",
    "# print('Data_Correlation_Heatmap.png created!')\n",
    "plt.show()"
   ]
  }
 ],
 "metadata": {
  "colab": {
   "provenance": []
  },
  "kernelspec": {
   "display_name": "Python 3 (ipykernel)",
   "language": "python",
   "name": "python3"
  },
  "language_info": {
   "codemirror_mode": {
    "name": "ipython",
    "version": 3
   },
   "file_extension": ".py",
   "mimetype": "text/x-python",
   "name": "python",
   "nbconvert_exporter": "python",
   "pygments_lexer": "ipython3",
   "version": "3.10.9"
  }
 },
 "nbformat": 4,
 "nbformat_minor": 1
}
